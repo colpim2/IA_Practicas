{
 "cells": [
  {
   "cell_type": "markdown",
   "metadata": {
    "id": "pnYOY0aH5jGf"
   },
   "source": [
    "# **Práctica 4: Métricas de distancia (similitud)**\n",
    "\n",
    "Nombre:\n",
    "\n",
    "Número de cuenta:\n",
    "\n",
    "Email:"
   ]
  },
  {
   "cell_type": "markdown",
   "metadata": {
    "id": "b05A7-qViDDz"
   },
   "source": [
    "**Objetivo.** Obtener las matrices de distancia (Euclidiana, Chebyshev, Manhattan, Minkowski) a partir de una matriz de datos.\n",
    "\n",
    "\n",
    "**Fuente de datos:**\n",
    "\n",
    "* ingresos: son ingresos mensuales de 1 o 2 personas, si están casados.\n",
    "* gastos_comunes: son gastos mensuales de 1 o 2 personas, si están casados. \n",
    "* pago_coche\n",
    "* gastos_otros\n",
    "* ahorros\n",
    "* vivienda: valor de la vivienda.\n",
    "* estado_civil: 0-soltero, 1-casado, 2-divorciado\n",
    "* hijos: cantidad de hijos menores (no trabajan).\n",
    "* trabajo: 0-sin trabajo, 1-autonomo, 2-asalariado, 3-empresario, 4-autonomos, 5-asalariados, 6-autonomo y asalariado, 7-empresario y autonomo, 8-empresarios o empresario y autónomo \n",
    "* comprar: 0-alquilar, 1-comprar casa a través de crédito hipotecario con tasa fija a 30 años.\n"
   ]
  },
  {
   "cell_type": "markdown",
   "metadata": {
    "id": "OhmPOcypjfUv"
   },
   "source": [
    "#### **1) Importar las bibliotecas necesarias**\n"
   ]
  },
  {
   "cell_type": "code",
   "execution_count": null,
   "metadata": {
    "id": "N6zYyzEQQG36"
   },
   "outputs": [],
   "source": [
    "import pandas as pd                         # Para la manipulación y análisis de datos\n",
    "import numpy as np                          # Para crear vectores y matrices n dimensionales\n",
    "import matplotlib.pyplot as plt             # Para generar gráficas a partir de los datos\n",
    "from scipy.spatial.distance import cdist    # Para el cálculo de distancias\n",
    "from scipy.spatial import distance"
   ]
  },
  {
   "cell_type": "markdown",
   "metadata": {
    "id": "uuGs6szll3vf"
   },
   "source": [
    "#### **2) Importar los datos**"
   ]
  },
  {
   "cell_type": "code",
   "execution_count": null,
   "metadata": {
    "colab": {
     "base_uri": "https://localhost:8080/",
     "height": 424
    },
    "executionInfo": {
     "elapsed": 141,
     "status": "ok",
     "timestamp": 1633310829636,
     "user": {
      "displayName": "Guillermo Molero-Castillo",
      "photoUrl": "https://lh3.googleusercontent.com/a/default-user=s64",
      "userId": "05385957137518665248"
     },
     "user_tz": 300
    },
    "id": "Kdq7I0JVQvEB",
    "outputId": "18cf1253-45a5-400e-d92a-0ee59e4bec85"
   },
   "outputs": [
    {
     "data": {
      "text/html": [
       "<div>\n",
       "<style scoped>\n",
       "    .dataframe tbody tr th:only-of-type {\n",
       "        vertical-align: middle;\n",
       "    }\n",
       "\n",
       "    .dataframe tbody tr th {\n",
       "        vertical-align: top;\n",
       "    }\n",
       "\n",
       "    .dataframe thead th {\n",
       "        text-align: right;\n",
       "    }\n",
       "</style>\n",
       "<table border=\"1\" class=\"dataframe\">\n",
       "  <thead>\n",
       "    <tr style=\"text-align: right;\">\n",
       "      <th></th>\n",
       "      <th>ingresos</th>\n",
       "      <th>gastos_comunes</th>\n",
       "      <th>pago_coche</th>\n",
       "      <th>gastos_otros</th>\n",
       "      <th>ahorros</th>\n",
       "      <th>vivienda</th>\n",
       "      <th>estado_civil</th>\n",
       "      <th>hijos</th>\n",
       "      <th>trabajo</th>\n",
       "      <th>comprar</th>\n",
       "    </tr>\n",
       "  </thead>\n",
       "  <tbody>\n",
       "    <tr>\n",
       "      <th>0</th>\n",
       "      <td>6000</td>\n",
       "      <td>1000</td>\n",
       "      <td>0</td>\n",
       "      <td>600</td>\n",
       "      <td>50000</td>\n",
       "      <td>400000</td>\n",
       "      <td>0</td>\n",
       "      <td>2</td>\n",
       "      <td>2</td>\n",
       "      <td>1</td>\n",
       "    </tr>\n",
       "    <tr>\n",
       "      <th>1</th>\n",
       "      <td>6745</td>\n",
       "      <td>944</td>\n",
       "      <td>123</td>\n",
       "      <td>429</td>\n",
       "      <td>43240</td>\n",
       "      <td>636897</td>\n",
       "      <td>1</td>\n",
       "      <td>3</td>\n",
       "      <td>6</td>\n",
       "      <td>0</td>\n",
       "    </tr>\n",
       "    <tr>\n",
       "      <th>2</th>\n",
       "      <td>6455</td>\n",
       "      <td>1033</td>\n",
       "      <td>98</td>\n",
       "      <td>795</td>\n",
       "      <td>57463</td>\n",
       "      <td>321779</td>\n",
       "      <td>2</td>\n",
       "      <td>1</td>\n",
       "      <td>8</td>\n",
       "      <td>1</td>\n",
       "    </tr>\n",
       "    <tr>\n",
       "      <th>3</th>\n",
       "      <td>7098</td>\n",
       "      <td>1278</td>\n",
       "      <td>15</td>\n",
       "      <td>254</td>\n",
       "      <td>54506</td>\n",
       "      <td>660933</td>\n",
       "      <td>0</td>\n",
       "      <td>0</td>\n",
       "      <td>3</td>\n",
       "      <td>0</td>\n",
       "    </tr>\n",
       "    <tr>\n",
       "      <th>4</th>\n",
       "      <td>6167</td>\n",
       "      <td>863</td>\n",
       "      <td>223</td>\n",
       "      <td>520</td>\n",
       "      <td>41512</td>\n",
       "      <td>348932</td>\n",
       "      <td>0</td>\n",
       "      <td>0</td>\n",
       "      <td>3</td>\n",
       "      <td>1</td>\n",
       "    </tr>\n",
       "    <tr>\n",
       "      <th>...</th>\n",
       "      <td>...</td>\n",
       "      <td>...</td>\n",
       "      <td>...</td>\n",
       "      <td>...</td>\n",
       "      <td>...</td>\n",
       "      <td>...</td>\n",
       "      <td>...</td>\n",
       "      <td>...</td>\n",
       "      <td>...</td>\n",
       "      <td>...</td>\n",
       "    </tr>\n",
       "    <tr>\n",
       "      <th>197</th>\n",
       "      <td>3831</td>\n",
       "      <td>690</td>\n",
       "      <td>352</td>\n",
       "      <td>488</td>\n",
       "      <td>10723</td>\n",
       "      <td>363120</td>\n",
       "      <td>0</td>\n",
       "      <td>0</td>\n",
       "      <td>2</td>\n",
       "      <td>0</td>\n",
       "    </tr>\n",
       "    <tr>\n",
       "      <th>198</th>\n",
       "      <td>3961</td>\n",
       "      <td>1030</td>\n",
       "      <td>270</td>\n",
       "      <td>475</td>\n",
       "      <td>21880</td>\n",
       "      <td>280421</td>\n",
       "      <td>2</td>\n",
       "      <td>3</td>\n",
       "      <td>8</td>\n",
       "      <td>0</td>\n",
       "    </tr>\n",
       "    <tr>\n",
       "      <th>199</th>\n",
       "      <td>3184</td>\n",
       "      <td>955</td>\n",
       "      <td>276</td>\n",
       "      <td>684</td>\n",
       "      <td>35565</td>\n",
       "      <td>388025</td>\n",
       "      <td>1</td>\n",
       "      <td>3</td>\n",
       "      <td>8</td>\n",
       "      <td>0</td>\n",
       "    </tr>\n",
       "    <tr>\n",
       "      <th>200</th>\n",
       "      <td>3334</td>\n",
       "      <td>867</td>\n",
       "      <td>369</td>\n",
       "      <td>652</td>\n",
       "      <td>19985</td>\n",
       "      <td>376892</td>\n",
       "      <td>1</td>\n",
       "      <td>2</td>\n",
       "      <td>5</td>\n",
       "      <td>0</td>\n",
       "    </tr>\n",
       "    <tr>\n",
       "      <th>201</th>\n",
       "      <td>3988</td>\n",
       "      <td>1157</td>\n",
       "      <td>105</td>\n",
       "      <td>382</td>\n",
       "      <td>11980</td>\n",
       "      <td>257580</td>\n",
       "      <td>0</td>\n",
       "      <td>0</td>\n",
       "      <td>4</td>\n",
       "      <td>0</td>\n",
       "    </tr>\n",
       "  </tbody>\n",
       "</table>\n",
       "<p>202 rows × 10 columns</p>\n",
       "</div>"
      ],
      "text/plain": [
       "     ingresos  gastos_comunes  pago_coche  gastos_otros  ahorros  vivienda  \\\n",
       "0        6000            1000           0           600    50000    400000   \n",
       "1        6745             944         123           429    43240    636897   \n",
       "2        6455            1033          98           795    57463    321779   \n",
       "3        7098            1278          15           254    54506    660933   \n",
       "4        6167             863         223           520    41512    348932   \n",
       "..        ...             ...         ...           ...      ...       ...   \n",
       "197      3831             690         352           488    10723    363120   \n",
       "198      3961            1030         270           475    21880    280421   \n",
       "199      3184             955         276           684    35565    388025   \n",
       "200      3334             867         369           652    19985    376892   \n",
       "201      3988            1157         105           382    11980    257580   \n",
       "\n",
       "     estado_civil  hijos  trabajo  comprar  \n",
       "0               0      2        2        1  \n",
       "1               1      3        6        0  \n",
       "2               2      1        8        1  \n",
       "3               0      0        3        0  \n",
       "4               0      0        3        1  \n",
       "..            ...    ...      ...      ...  \n",
       "197             0      0        2        0  \n",
       "198             2      3        8        0  \n",
       "199             1      3        8        0  \n",
       "200             1      2        5        0  \n",
       "201             0      0        4        0  \n",
       "\n",
       "[202 rows x 10 columns]"
      ]
     },
     "execution_count": 3,
     "metadata": {},
     "output_type": "execute_result"
    }
   ],
   "source": [
    "Hipoteca = pd.read_csv(\"Hipoteca.csv\")\n",
    "Hipoteca"
   ]
  },
  {
   "cell_type": "code",
   "execution_count": null,
   "metadata": {
    "colab": {
     "base_uri": "https://localhost:8080/"
    },
    "executionInfo": {
     "elapsed": 143,
     "status": "ok",
     "timestamp": 1633310835267,
     "user": {
      "displayName": "Guillermo Molero-Castillo",
      "photoUrl": "https://lh3.googleusercontent.com/a/default-user=s64",
      "userId": "05385957137518665248"
     },
     "user_tz": 300
    },
    "id": "rXSmHDzwrRjd",
    "outputId": "8a8f8431-a392-4ce9-8c1c-f6fb32e02a8c"
   },
   "outputs": [
    {
     "name": "stdout",
     "output_type": "stream",
     "text": [
      "<class 'pandas.core.frame.DataFrame'>\n",
      "RangeIndex: 202 entries, 0 to 201\n",
      "Data columns (total 10 columns):\n",
      " #   Column          Non-Null Count  Dtype\n",
      "---  ------          --------------  -----\n",
      " 0   ingresos        202 non-null    int64\n",
      " 1   gastos_comunes  202 non-null    int64\n",
      " 2   pago_coche      202 non-null    int64\n",
      " 3   gastos_otros    202 non-null    int64\n",
      " 4   ahorros         202 non-null    int64\n",
      " 5   vivienda        202 non-null    int64\n",
      " 6   estado_civil    202 non-null    int64\n",
      " 7   hijos           202 non-null    int64\n",
      " 8   trabajo         202 non-null    int64\n",
      " 9   comprar         202 non-null    int64\n",
      "dtypes: int64(10)\n",
      "memory usage: 15.9 KB\n"
     ]
    }
   ],
   "source": [
    "Hipoteca.info()"
   ]
  },
  {
   "cell_type": "markdown",
   "metadata": {
    "id": "t0Ong23Yl8eY"
   },
   "source": [
    "#### **3) Matrices de distancia**"
   ]
  },
  {
   "cell_type": "markdown",
   "metadata": {
    "id": "I3uEnrDx--At"
   },
   "source": [
    "**a) Matriz de distancias: Euclidiana**"
   ]
  },
  {
   "cell_type": "code",
   "execution_count": null,
   "metadata": {
    "id": "yolJSfM6yVWa"
   },
   "outputs": [],
   "source": [
    "DstEuclidiana = cdist(Hipoteca, Hipoteca, metric='euclidean')\n",
    "MEuclidiana = pd.DataFrame(DstEuclidiana)"
   ]
  },
  {
   "cell_type": "code",
   "execution_count": null,
   "metadata": {
    "colab": {
     "base_uri": "https://localhost:8080/"
    },
    "executionInfo": {
     "elapsed": 133,
     "status": "ok",
     "timestamp": 1633310886413,
     "user": {
      "displayName": "Guillermo Molero-Castillo",
      "photoUrl": "https://lh3.googleusercontent.com/a/default-user=s64",
      "userId": "05385957137518665248"
     },
     "user_tz": 300
    },
    "id": "pnchjOx2_aBz",
    "outputId": "951abf0a-568a-4d0a-9a2f-dd5127b3a621"
   },
   "outputs": [
    {
     "name": "stdout",
     "output_type": "stream",
     "text": [
      "               0              1              2              3    \\\n",
      "0         0.000000  236994.701964   78577.840350  260974.591407   \n",
      "1    236994.701964       0.000000  315439.176808   26550.527773   \n",
      "2     78577.840350  315439.176808       0.000000  339168.030097   \n",
      "3    260974.591407   26550.527773  339168.030097       0.000000   \n",
      "4     51769.581416  287970.807817   31494.808048  312273.311450   \n",
      "..             ...            ...            ...            ...   \n",
      "197   53923.596347  275716.907131   62456.926862  301032.758046   \n",
      "198  122858.123985  357126.266127   54616.719848  381921.267013   \n",
      "199   18967.999420  249015.957900   69848.439181  273593.155481   \n",
      "200   37975.571227  261065.405879   66722.600009  286156.617026   \n",
      "201  147421.532182  380612.957023   78717.767975  405600.560294   \n",
      "\n",
      "               4              5              6              7    \\\n",
      "0     51769.581416   39149.060512   30003.797860  206425.706195   \n",
      "1    287970.807817  276141.622437  207115.404780   33742.472390   \n",
      "2     31494.808048   39645.760694  108564.128321  284512.007926   \n",
      "3    312273.311450  300095.494243  231251.131504   54727.355591   \n",
      "4         0.000000   15176.476831   81054.392885  257851.794851   \n",
      "..             ...            ...            ...            ...   \n",
      "197   33981.853349   40260.802178   75868.017471  247632.363897   \n",
      "198   71302.672762   85526.168533  151476.305814  327814.188465   \n",
      "199   39655.591686   31283.565350   43417.279394  219384.112141   \n",
      "200   35401.101452   34884.353785   59413.858484  232457.935674   \n",
      "201   96032.256950  110377.422284  175732.010638  351670.615456   \n",
      "\n",
      "               8              9    ...            192            193  \\\n",
      "0    108991.940697   76488.543044  ...   33820.105884   97151.952693   \n",
      "1    345963.774390  312810.379793  ...  245361.662611  332914.069407   \n",
      "2     31548.758977   17030.194685  ...   81919.633703   29056.238745   \n",
      "3    369945.815299  337121.576353  ...  270606.485987  357395.415320   \n",
      "4     58617.026426   24868.539744  ...   50436.058609   45434.692956   \n",
      "..             ...            ...  ...            ...            ...   \n",
      "197   82392.340906   49258.106622  ...   30494.089608   63658.213194   \n",
      "198   30605.694339   47621.345844  ...  112646.343620   26897.085920   \n",
      "199   98206.745578   64240.729814  ...   19312.191797   83918.922252   \n",
      "200   91190.756094   56800.659741  ...   16402.939310   74233.378193   \n",
      "201   51056.466642   72480.501378  ...  135470.782212   51743.783965   \n",
      "\n",
      "               194            195            196            197  \\\n",
      "0    112687.445126  161575.396769  178224.447030   53923.596347   \n",
      "1    347977.674706  397306.936161  413471.407294  275716.907131   \n",
      "2     42968.093732   86907.692818  104005.059930   62456.926862   \n",
      "3    372580.857695  421873.332078  438166.665244  301032.758046   \n",
      "4     60975.658693  109852.443491  126465.049168   33981.853349   \n",
      "..             ...            ...            ...            ...   \n",
      "197   76308.546088  124526.266402  139620.887485       0.000000   \n",
      "198   11787.437890   41088.525065   56451.028724   83449.042487   \n",
      "199   98997.111933  148325.460522  164601.451801   35184.045546   \n",
      "200   88221.061255  137288.453203  152938.807322   16605.967753   \n",
      "201   36252.039612   24220.640867   35124.754974  105548.977428   \n",
      "\n",
      "               198            199            200            201  \n",
      "0    122858.123985   18967.999420   37975.571227  147421.532182  \n",
      "1    357126.266127  249015.957900  261065.405879  380612.957023  \n",
      "2     54616.719848   69848.439181   66722.600009   78717.767975  \n",
      "3    381921.267013  273593.155481  286156.617026  405600.560294  \n",
      "4     71302.672762   39655.591686   35401.101452   96032.256950  \n",
      "..             ...            ...            ...            ...  \n",
      "197   83449.042487   35184.045546   16605.967753  105548.977428  \n",
      "198       0.000000  108473.743888   96491.998140   24895.261437  \n",
      "199  108473.743888       0.000000   19149.935143  132563.033841  \n",
      "200   96491.998140   19149.935143       0.000000  119582.974486  \n",
      "201   24895.261437  132563.033841  119582.974486       0.000000  \n",
      "\n",
      "[202 rows x 202 columns]\n"
     ]
    }
   ],
   "source": [
    "print(MEuclidiana)\n",
    "#MEuclidiana "
   ]
  },
  {
   "cell_type": "code",
   "execution_count": null,
   "metadata": {
    "colab": {
     "base_uri": "https://localhost:8080/"
    },
    "executionInfo": {
     "elapsed": 300,
     "status": "ok",
     "timestamp": 1633310890912,
     "user": {
      "displayName": "Guillermo Molero-Castillo",
      "photoUrl": "https://lh3.googleusercontent.com/a/default-user=s64",
      "userId": "05385957137518665248"
     },
     "user_tz": 300
    },
    "id": "NX8EtpHSoL6k",
    "outputId": "d22f8585-590c-4bcd-e9b0-ac69ef816a55"
   },
   "outputs": [
    {
     "name": "stdout",
     "output_type": "stream",
     "text": [
      "            0           1           2           3           4           5    \\\n",
      "0         0.000  236994.702   78577.840  260974.591   51769.581   39149.061   \n",
      "1    236994.702       0.000  315439.177   26550.528  287970.808  276141.622   \n",
      "2     78577.840  315439.177       0.000  339168.030   31494.808   39645.761   \n",
      "3    260974.591   26550.528  339168.030       0.000  312273.311  300095.494   \n",
      "4     51769.581  287970.808   31494.808  312273.311       0.000   15176.477   \n",
      "..          ...         ...         ...         ...         ...         ...   \n",
      "197   53923.596  275716.907   62456.927  301032.758   33981.853   40260.802   \n",
      "198  122858.124  357126.266   54616.720  381921.267   71302.673   85526.169   \n",
      "199   18967.999  249015.958   69848.439  273593.155   39655.592   31283.565   \n",
      "200   37975.571  261065.406   66722.600  286156.617   35401.101   34884.354   \n",
      "201  147421.532  380612.957   78717.768  405600.560   96032.257  110377.422   \n",
      "\n",
      "            6           7           8           9    ...         192  \\\n",
      "0     30003.798  206425.706  108991.941   76488.543  ...   33820.106   \n",
      "1    207115.405   33742.472  345963.774  312810.380  ...  245361.663   \n",
      "2    108564.128  284512.008   31548.759   17030.195  ...   81919.634   \n",
      "3    231251.132   54727.356  369945.815  337121.576  ...  270606.486   \n",
      "4     81054.393  257851.795   58617.026   24868.540  ...   50436.059   \n",
      "..          ...         ...         ...         ...  ...         ...   \n",
      "197   75868.017  247632.364   82392.341   49258.107  ...   30494.090   \n",
      "198  151476.306  327814.188   30605.694   47621.346  ...  112646.344   \n",
      "199   43417.279  219384.112   98206.746   64240.730  ...   19312.192   \n",
      "200   59413.858  232457.936   91190.756   56800.660  ...   16402.939   \n",
      "201  175732.011  351670.615   51056.467   72480.501  ...  135470.782   \n",
      "\n",
      "            193         194         195         196         197         198  \\\n",
      "0     97151.953  112687.445  161575.397  178224.447   53923.596  122858.124   \n",
      "1    332914.069  347977.675  397306.936  413471.407  275716.907  357126.266   \n",
      "2     29056.239   42968.094   86907.693  104005.060   62456.927   54616.720   \n",
      "3    357395.415  372580.858  421873.332  438166.665  301032.758  381921.267   \n",
      "4     45434.693   60975.659  109852.443  126465.049   33981.853   71302.673   \n",
      "..          ...         ...         ...         ...         ...         ...   \n",
      "197   63658.213   76308.546  124526.266  139620.887       0.000   83449.042   \n",
      "198   26897.086   11787.438   41088.525   56451.029   83449.042       0.000   \n",
      "199   83918.922   98997.112  148325.461  164601.452   35184.046  108473.744   \n",
      "200   74233.378   88221.061  137288.453  152938.807   16605.968   96491.998   \n",
      "201   51743.784   36252.040   24220.641   35124.755  105548.977   24895.261   \n",
      "\n",
      "            199         200         201  \n",
      "0     18967.999   37975.571  147421.532  \n",
      "1    249015.958  261065.406  380612.957  \n",
      "2     69848.439   66722.600   78717.768  \n",
      "3    273593.155  286156.617  405600.560  \n",
      "4     39655.592   35401.101   96032.257  \n",
      "..          ...         ...         ...  \n",
      "197   35184.046   16605.968  105548.977  \n",
      "198  108473.744   96491.998   24895.261  \n",
      "199       0.000   19149.935  132563.034  \n",
      "200   19149.935       0.000  119582.974  \n",
      "201  132563.034  119582.974       0.000  \n",
      "\n",
      "[202 rows x 202 columns]\n"
     ]
    }
   ],
   "source": [
    "print(MEuclidiana.round(3))"
   ]
  },
  {
   "cell_type": "markdown",
   "metadata": {
    "id": "1WPWHVnkrLWI"
   },
   "source": [
    "Matriz de distancias de una parte del total de objetos\n"
   ]
  },
  {
   "cell_type": "code",
   "execution_count": null,
   "metadata": {
    "colab": {
     "base_uri": "https://localhost:8080/"
    },
    "executionInfo": {
     "elapsed": 128,
     "status": "ok",
     "timestamp": 1633310925620,
     "user": {
      "displayName": "Guillermo Molero-Castillo",
      "photoUrl": "https://lh3.googleusercontent.com/a/default-user=s64",
      "userId": "05385957137518665248"
     },
     "user_tz": 300
    },
    "id": "QJMTRTpoqoRC",
    "outputId": "81fe1630-37c3-48a1-f634-756fb7f47645"
   },
   "outputs": [
    {
     "name": "stdout",
     "output_type": "stream",
     "text": [
      "            0           1           2           3           4           5  \\\n",
      "0       0.000  236994.702   78577.840  260974.591   51769.581   39149.061   \n",
      "1  236994.702       0.000  315439.177   26550.528  287970.808  276141.622   \n",
      "2   78577.840  315439.177       0.000  339168.030   31494.808   39645.761   \n",
      "3  260974.591   26550.528  339168.030       0.000  312273.311  300095.494   \n",
      "4   51769.581  287970.808   31494.808  312273.311       0.000   15176.477   \n",
      "5   39149.061  276141.622   39645.761  300095.494   15176.477       0.000   \n",
      "6   30003.798  207115.405  108564.128  231251.132   81054.393   69082.894   \n",
      "7  206425.706   33742.472  284512.008   54727.356  257851.795  245517.453   \n",
      "8  108991.941  345963.774   31548.759  369945.815   58617.026   69857.764   \n",
      "9   76488.543  312810.380   17030.195  337121.576   24868.540   38195.246   \n",
      "\n",
      "            6           7           8           9  \n",
      "0   30003.798  206425.706  108991.941   76488.543  \n",
      "1  207115.405   33742.472  345963.774  312810.380  \n",
      "2  108564.128  284512.008   31548.759   17030.195  \n",
      "3  231251.132   54727.356  369945.815  337121.576  \n",
      "4   81054.393  257851.795   58617.026   24868.540  \n",
      "5   69082.894  245517.453   69857.764   38195.246  \n",
      "6       0.000  176803.205  138853.961  105892.924  \n",
      "7  176803.205       0.000  315357.551  282695.457  \n",
      "8  138853.961  315357.551       0.000   34544.425  \n",
      "9  105892.924  282695.457   34544.425       0.000  \n"
     ]
    }
   ],
   "source": [
    "DstEuclidiana = cdist(Hipoteca.iloc[0:10], Hipoteca.iloc[0:10], metric='euclidean')     #iloc para seleccionar filas y columnas según su posición\n",
    "MEuclidiana = pd.DataFrame(DstEuclidiana)\n",
    "print(MEuclidiana.round(3)) "
   ]
  },
  {
   "cell_type": "markdown",
   "metadata": {
    "id": "DQElWCmSrqsA"
   },
   "source": [
    "Distancia entre dos objetos"
   ]
  },
  {
   "cell_type": "code",
   "execution_count": null,
   "metadata": {
    "colab": {
     "base_uri": "https://localhost:8080/"
    },
    "executionInfo": {
     "elapsed": 139,
     "status": "ok",
     "timestamp": 1633310948144,
     "user": {
      "displayName": "Guillermo Molero-Castillo",
      "photoUrl": "https://lh3.googleusercontent.com/a/default-user=s64",
      "userId": "05385957137518665248"
     },
     "user_tz": 300
    },
    "id": "He8ZKAtzoJm-",
    "outputId": "5566e3c8-f8a3-4b0e-e57b-fad70cf28f65"
   },
   "outputs": [
    {
     "data": {
      "text/plain": [
       "236994.70196398906"
      ]
     },
     "execution_count": 11,
     "metadata": {},
     "output_type": "execute_result"
    }
   ],
   "source": [
    "Objeto1 = Hipoteca.iloc[0]\n",
    "Objeto2 = Hipoteca.iloc[1]\n",
    "dstEuclidiana = distance.euclidean(Objeto1,Objeto2)\n",
    "dstEuclidiana "
   ]
  },
  {
   "cell_type": "markdown",
   "metadata": {
    "id": "ByhD6VXyBbf8"
   },
   "source": [
    "**b) Matriz de distancias: Chebyshev**"
   ]
  },
  {
   "cell_type": "code",
   "execution_count": null,
   "metadata": {
    "id": "hZxcwmX2BkkO"
   },
   "outputs": [],
   "source": [
    "DstChebyshev = cdist(Hipoteca, Hipoteca, metric='chebyshev')\n",
    "MChebyshev = pd.DataFrame(DstChebyshev)"
   ]
  },
  {
   "cell_type": "code",
   "execution_count": null,
   "metadata": {
    "colab": {
     "base_uri": "https://localhost:8080/"
    },
    "executionInfo": {
     "elapsed": 127,
     "status": "ok",
     "timestamp": 1633310974551,
     "user": {
      "displayName": "Guillermo Molero-Castillo",
      "photoUrl": "https://lh3.googleusercontent.com/a/default-user=s64",
      "userId": "05385957137518665248"
     },
     "user_tz": 300
    },
    "id": "ceDvx0h3BpgS",
    "outputId": "6bbecc57-5357-4764-c100-59c8e9f133f6"
   },
   "outputs": [
    {
     "name": "stdout",
     "output_type": "stream",
     "text": [
      "          0         1         2         3         4         5         6    \\\n",
      "0         0.0  236897.0   78221.0  260933.0   51068.0   39137.0   29812.0   \n",
      "1    236897.0       0.0  315118.0   24036.0  287965.0  276034.0  207085.0   \n",
      "2     78221.0  315118.0       0.0  339154.0   27153.0   39084.0  108033.0   \n",
      "3    260933.0   24036.0  339154.0       0.0  312001.0  300070.0  231121.0   \n",
      "4     51068.0  287965.0   27153.0  312001.0       0.0   11931.0   80880.0   \n",
      "..        ...       ...       ...       ...       ...       ...       ...   \n",
      "197   39277.0  273777.0   46740.0  297813.0   30789.0   40152.0   66692.0   \n",
      "198  119579.0  356476.0   41358.0  380512.0   68511.0   80442.0  149391.0   \n",
      "199   14435.0  248872.0   66246.0  272908.0   39093.0   27162.0   41787.0   \n",
      "200   30015.0  260005.0   55113.0  284041.0   27960.0   30890.0   52920.0   \n",
      "201  142420.0  379317.0   64199.0  403353.0   91352.0  103283.0  172232.0   \n",
      "\n",
      "          7         8         9    ...       192       193       194  \\\n",
      "0    206291.0  108990.0   75902.0  ...   33048.0   95888.0  110795.0   \n",
      "1     30606.0  345887.0  312799.0  ...  243940.0  332785.0  347692.0   \n",
      "2    284512.0   30769.0   16852.0  ...   71178.0   22862.0   32574.0   \n",
      "3     54642.0  369923.0  336835.0  ...  267976.0  356821.0  371728.0   \n",
      "4    257359.0   57922.0   24834.0  ...   44025.0   44820.0   59727.0   \n",
      "..        ...       ...       ...  ...       ...       ...       ...   \n",
      "197  243171.0   72110.0   39022.0  ...   29837.0   59008.0   73915.0   \n",
      "198  325870.0   28623.0   43677.0  ...  112536.0   23691.0    8784.0   \n",
      "199  218266.0   97015.0   63927.0  ...   18613.0   83913.0   98820.0   \n",
      "200  229399.0   85882.0   52794.0  ...   16065.0   72780.0   87687.0   \n",
      "201  348711.0   38523.0   66518.0  ...  135377.0   46532.0   31625.0   \n",
      "\n",
      "          195       196       197       198       199       200       201  \n",
      "0    160128.0  176029.0   39277.0  119579.0   14435.0   30015.0  142420.0  \n",
      "1    397025.0  412926.0  273777.0  356476.0  248872.0  260005.0  379317.0  \n",
      "2     81907.0   97808.0   46740.0   41358.0   66246.0   55113.0   64199.0  \n",
      "3    421061.0  436962.0  297813.0  380512.0  272908.0  284041.0  403353.0  \n",
      "4    109060.0  124961.0   30789.0   68511.0   39093.0   27960.0   91352.0  \n",
      "..        ...       ...       ...       ...       ...       ...       ...  \n",
      "197  123248.0  139149.0       0.0   82699.0   24905.0   13772.0  105540.0  \n",
      "198   40549.0   56450.0   82699.0       0.0  107604.0   96471.0   22841.0  \n",
      "199  148153.0  164054.0   24905.0  107604.0       0.0   15580.0  130445.0  \n",
      "200  137020.0  152921.0   13772.0   96471.0   15580.0       0.0  119312.0  \n",
      "201   17708.0   33609.0  105540.0   22841.0  130445.0  119312.0       0.0  \n",
      "\n",
      "[202 rows x 202 columns]\n"
     ]
    }
   ],
   "source": [
    "print(MChebyshev)"
   ]
  },
  {
   "cell_type": "markdown",
   "metadata": {
    "id": "R7e4rqH66yxZ"
   },
   "source": [
    "Matriz de distancias de una parte del total de objetos"
   ]
  },
  {
   "cell_type": "code",
   "execution_count": null,
   "metadata": {
    "colab": {
     "base_uri": "https://localhost:8080/"
    },
    "executionInfo": {
     "elapsed": 159,
     "status": "ok",
     "timestamp": 1633311001707,
     "user": {
      "displayName": "Guillermo Molero-Castillo",
      "photoUrl": "https://lh3.googleusercontent.com/a/default-user=s64",
      "userId": "05385957137518665248"
     },
     "user_tz": 300
    },
    "id": "Qx5UQOcY6zl6",
    "outputId": "731c9c71-6af0-4678-af84-2744186ea276"
   },
   "outputs": [
    {
     "name": "stdout",
     "output_type": "stream",
     "text": [
      "          0         1         2         3         4         5         6  \\\n",
      "0       0.0  236897.0   78221.0  260933.0   51068.0   39137.0   29812.0   \n",
      "1  236897.0       0.0  315118.0   24036.0  287965.0  276034.0  207085.0   \n",
      "2   78221.0  315118.0       0.0  339154.0   27153.0   39084.0  108033.0   \n",
      "3  260933.0   24036.0  339154.0       0.0  312001.0  300070.0  231121.0   \n",
      "4   51068.0  287965.0   27153.0  312001.0       0.0   11931.0   80880.0   \n",
      "5   39137.0  276034.0   39084.0  300070.0   11931.0       0.0   68949.0   \n",
      "6   29812.0  207085.0  108033.0  231121.0   80880.0   68949.0       0.0   \n",
      "7  206291.0   30606.0  284512.0   54642.0  257359.0  245428.0  176479.0   \n",
      "8  108990.0  345887.0   30769.0  369923.0   57922.0   69853.0  138802.0   \n",
      "9   75902.0  312799.0   16852.0  336835.0   24834.0   36765.0  105714.0   \n",
      "\n",
      "          7         8         9  \n",
      "0  206291.0  108990.0   75902.0  \n",
      "1   30606.0  345887.0  312799.0  \n",
      "2  284512.0   30769.0   16852.0  \n",
      "3   54642.0  369923.0  336835.0  \n",
      "4  257359.0   57922.0   24834.0  \n",
      "5  245428.0   69853.0   36765.0  \n",
      "6  176479.0  138802.0  105714.0  \n",
      "7       0.0  315281.0  282193.0  \n",
      "8  315281.0       0.0   33088.0  \n",
      "9  282193.0   33088.0       0.0  \n"
     ]
    }
   ],
   "source": [
    "DstChebyshev = cdist(Hipoteca.iloc[0:10], Hipoteca.iloc[0:10], metric='chebyshev')\n",
    "MChebyshev = pd.DataFrame(DstChebyshev)\n",
    "print(MChebyshev)"
   ]
  },
  {
   "cell_type": "markdown",
   "metadata": {
    "id": "LL8UlDBI6ri1"
   },
   "source": [
    "Distancia entre dos objetos"
   ]
  },
  {
   "cell_type": "code",
   "execution_count": null,
   "metadata": {
    "colab": {
     "base_uri": "https://localhost:8080/"
    },
    "executionInfo": {
     "elapsed": 125,
     "status": "ok",
     "timestamp": 1633311020545,
     "user": {
      "displayName": "Guillermo Molero-Castillo",
      "photoUrl": "https://lh3.googleusercontent.com/a/default-user=s64",
      "userId": "05385957137518665248"
     },
     "user_tz": 300
    },
    "id": "1FWopV0a6sPc",
    "outputId": "772c0762-cf97-492a-bcc6-bf2e90c8b7f8"
   },
   "outputs": [
    {
     "data": {
      "text/plain": [
       "236897"
      ]
     },
     "execution_count": 15,
     "metadata": {},
     "output_type": "execute_result"
    }
   ],
   "source": [
    "Objeto1 = Hipoteca.iloc[0]\n",
    "Objeto2 = Hipoteca.iloc[1]\n",
    "dstChebyshev = distance.chebyshev(Objeto1,Objeto2)\n",
    "dstChebyshev"
   ]
  },
  {
   "cell_type": "markdown",
   "metadata": {
    "id": "PNUVTubfChSE"
   },
   "source": [
    "**c) Matriz de distancias: Manhattan**"
   ]
  },
  {
   "cell_type": "code",
   "execution_count": null,
   "metadata": {
    "id": "mkTj7uZPCicE"
   },
   "outputs": [],
   "source": [
    "DstManhattan = cdist(Hipoteca, Hipoteca, metric='cityblock')\n",
    "MManhattan = pd.DataFrame(DstManhattan)"
   ]
  },
  {
   "cell_type": "code",
   "execution_count": null,
   "metadata": {
    "colab": {
     "base_uri": "https://localhost:8080/"
    },
    "executionInfo": {
     "elapsed": 161,
     "status": "ok",
     "timestamp": 1633311029927,
     "user": {
      "displayName": "Guillermo Molero-Castillo",
      "photoUrl": "https://lh3.googleusercontent.com/a/default-user=s64",
      "userId": "05385957137518665248"
     },
     "user_tz": 300
    },
    "id": "kZZZVhNhCizt",
    "outputId": "9b466443-9597-4c0d-8dc4-0436eb403b67"
   },
   "outputs": [
    {
     "name": "stdout",
     "output_type": "stream",
     "text": [
      "          0         1         2         3         4         5         6    \\\n",
      "0         0.0  244759.0   86474.0  267180.0   60166.0   40701.0   34820.0   \n",
      "1    244759.0       0.0  330117.0   36279.0  290551.0  284974.0  211391.0   \n",
      "2     86474.0  330117.0       0.0  343632.0   43970.0   47121.0  120112.0   \n",
      "3    267180.0   36279.0  343632.0       0.0  326816.0  305557.0  239544.0   \n",
      "4     60166.0  290551.0   43970.0  326816.0       0.0   22231.0   87564.0   \n",
      "..        ...       ...       ...       ...       ...       ...       ...   \n",
      "197   79103.0  309758.0   91619.0  346023.0   47649.0   45004.0  106529.0   \n",
      "198  150173.0  380902.0   79933.0  417009.0   90619.0  111702.0  177657.0   \n",
      "199   29640.0  260529.0   91786.0  296786.0   48342.0   45653.0   57422.0   \n",
      "200   56348.0  287219.0   96298.0  323494.0   52608.0   50009.0   83992.0   \n",
      "201  182937.0  413618.0  112701.0  449329.0  123615.0  144286.0  210313.0   \n",
      "\n",
      "          7         8         9    ...       192       193       194  \\\n",
      "0    214460.0  110235.0   87151.0  ...   42016.0  114232.0  134639.0   \n",
      "1     45617.0  354186.0  316302.0  ...  273005.0  345071.0  365610.0   \n",
      "2    284636.0   38493.0   20633.0  ...  113950.0   44058.0   64475.0   \n",
      "3     59000.0  375313.0  351115.0  ...  309110.0  381346.0  401785.0   \n",
      "4    274210.0   67449.0   27261.0  ...   70668.0   54626.0   75273.0   \n",
      "..        ...       ...       ...  ...       ...       ...       ...   \n",
      "197  293479.0  115098.0   72986.0  ...   37533.0   83779.0   94204.0   \n",
      "198  364493.0   41890.0   65914.0  ...  118577.0   37321.0   18312.0   \n",
      "199  243852.0  115505.0   73547.0  ...   25282.0   85344.0  105541.0   \n",
      "200  270624.0  119947.0   77993.0  ...   20708.0   87710.0   98305.0   \n",
      "201  397243.0   74604.0   98540.0  ...  141811.0   70323.0   51138.0   \n",
      "\n",
      "          195       196       197       198       199       200       201  \n",
      "0    184071.0  206423.0   79103.0  150173.0   29640.0   56348.0  182937.0  \n",
      "1    414862.0  437090.0  309758.0  380902.0  260529.0  287219.0  413618.0  \n",
      "2    113925.0  136187.0   91619.0   79933.0   91786.0   96298.0  112701.0  \n",
      "3    450127.0  473055.0  346023.0  417009.0  296786.0  323494.0  449329.0  \n",
      "4    124865.0  146865.0   47649.0   90619.0   48342.0   52608.0  123615.0  \n",
      "..        ...       ...       ...       ...       ...       ...       ...  \n",
      "197  142436.0  151306.0       0.0   94432.0   50941.0   23895.0  107776.0  \n",
      "198   48010.0   57056.0   94432.0       0.0  122357.0   99437.0   33162.0  \n",
      "199  157121.0  178793.0   50941.0  122357.0       0.0   27080.0  155517.0  \n",
      "200  147443.0  156285.0   23895.0   99437.0   27080.0       0.0  128799.0  \n",
      "201   34660.0   44266.0  107776.0   33162.0  155517.0  128799.0       0.0  \n",
      "\n",
      "[202 rows x 202 columns]\n"
     ]
    }
   ],
   "source": [
    "print(MManhattan)"
   ]
  },
  {
   "cell_type": "markdown",
   "metadata": {
    "id": "czqO7FST8Qvb"
   },
   "source": [
    "Matriz de distancias de una parte del total de objetos"
   ]
  },
  {
   "cell_type": "code",
   "execution_count": null,
   "metadata": {
    "colab": {
     "base_uri": "https://localhost:8080/"
    },
    "executionInfo": {
     "elapsed": 142,
     "status": "ok",
     "timestamp": 1633311062072,
     "user": {
      "displayName": "Guillermo Molero-Castillo",
      "photoUrl": "https://lh3.googleusercontent.com/a/default-user=s64",
      "userId": "05385957137518665248"
     },
     "user_tz": 300
    },
    "id": "93LDlDQ48Rph",
    "outputId": "350ce704-bc55-4489-8ead-0d5bca28d8a4"
   },
   "outputs": [
    {
     "name": "stdout",
     "output_type": "stream",
     "text": [
      "          0         1         2         3         4         5         6  \\\n",
      "0       0.0  244759.0   86474.0  267180.0   60166.0   40701.0   34820.0   \n",
      "1  244759.0       0.0  330117.0   36279.0  290551.0  284974.0  211391.0   \n",
      "2   86474.0  330117.0       0.0  343632.0   43970.0   47121.0  120112.0   \n",
      "3  267180.0   36279.0  343632.0       0.0  326816.0  305557.0  239544.0   \n",
      "4   60166.0  290551.0   43970.0  326816.0       0.0   22231.0   87564.0   \n",
      "5   40701.0  284974.0   47121.0  305557.0   22231.0       0.0   74941.0   \n",
      "6   34820.0  211391.0  120112.0  239544.0   87564.0   74941.0       0.0   \n",
      "7  214460.0   45617.0  284636.0   59000.0  274210.0  253389.0  188566.0   \n",
      "8  110235.0  354186.0   38493.0  375313.0   67449.0   71574.0  143573.0   \n",
      "9   87151.0  316302.0   20633.0  351115.0   27261.0   48998.0  112221.0   \n",
      "\n",
      "          7         8         9  \n",
      "0  214460.0  110235.0   87151.0  \n",
      "1   45617.0  354186.0  316302.0  \n",
      "2  284636.0   38493.0   20633.0  \n",
      "3   59000.0  375313.0  351115.0  \n",
      "4  274210.0   67449.0   27261.0  \n",
      "5  253389.0   71574.0   48998.0  \n",
      "6  188566.0  143573.0  112221.0  \n",
      "7       0.0  323035.0  300521.0  \n",
      "8  323035.0       0.0   44100.0  \n",
      "9  300521.0   44100.0       0.0  \n"
     ]
    }
   ],
   "source": [
    "DstManhattan = cdist(Hipoteca.iloc[0:10], Hipoteca.iloc[0:10], metric='cityblock')\n",
    "MManhattan = pd.DataFrame(DstManhattan)\n",
    "print(MManhattan)"
   ]
  },
  {
   "cell_type": "markdown",
   "metadata": {
    "id": "bxzGN1Hr8wbV"
   },
   "source": [
    "Distancia entre dos objetos"
   ]
  },
  {
   "cell_type": "code",
   "execution_count": null,
   "metadata": {
    "colab": {
     "base_uri": "https://localhost:8080/"
    },
    "executionInfo": {
     "elapsed": 142,
     "status": "ok",
     "timestamp": 1633311085713,
     "user": {
      "displayName": "Guillermo Molero-Castillo",
      "photoUrl": "https://lh3.googleusercontent.com/a/default-user=s64",
      "userId": "05385957137518665248"
     },
     "user_tz": 300
    },
    "id": "wlaZ_RQH8ySL",
    "outputId": "185198ca-66ef-4b9c-991c-9a4846173b3b"
   },
   "outputs": [
    {
     "data": {
      "text/plain": [
       "244759"
      ]
     },
     "execution_count": 19,
     "metadata": {},
     "output_type": "execute_result"
    }
   ],
   "source": [
    "Objeto1 = Hipoteca.iloc[0]\n",
    "Objeto2 = Hipoteca.iloc[1]\n",
    "dstManhattan = distance.cityblock(Objeto1,Objeto2)\n",
    "dstManhattan"
   ]
  },
  {
   "cell_type": "markdown",
   "metadata": {
    "id": "cdJzgxqoEDWw"
   },
   "source": [
    "**d) Matriz de distancias: Minkowski**"
   ]
  },
  {
   "cell_type": "code",
   "execution_count": null,
   "metadata": {
    "id": "lk6Obnn7EDwI"
   },
   "outputs": [],
   "source": [
    "DstMinkowski = cdist(Hipoteca, Hipoteca, metric='minkowski', p=1.5)\n",
    "MMinkowski = pd.DataFrame(DstMinkowski)"
   ]
  },
  {
   "cell_type": "code",
   "execution_count": null,
   "metadata": {
    "colab": {
     "base_uri": "https://localhost:8080/"
    },
    "executionInfo": {
     "elapsed": 195,
     "status": "ok",
     "timestamp": 1633308219874,
     "user": {
      "displayName": "Guillermo Molero-Castillo",
      "photoUrl": "https://lh3.googleusercontent.com/a/default-user=s64",
      "userId": "05385957137518665248"
     },
     "user_tz": 300
    },
    "id": "chKy4TXYED-b",
    "outputId": "f6f6a1d2-9511-416f-dd0b-f63551a9b589"
   },
   "outputs": [
    {
     "name": "stdout",
     "output_type": "stream",
     "text": [
      "               0              1              2              3    \\\n",
      "0         0.000000  237690.995925   79782.466760  261389.573558   \n",
      "1    237690.995925       0.000000  317144.541987   28999.550044   \n",
      "2     79782.466760  317144.541987       0.000000  339376.378955   \n",
      "3    261389.573558   28999.550044  339376.378955       0.000000   \n",
      "4     53372.216100  288074.733923   34836.105302  313818.956903   \n",
      "..             ...            ...            ...            ...   \n",
      "197   60770.233816  281405.644842   70353.660441  309154.836773   \n",
      "198  128687.635109  360119.702102   61510.907561  387055.019657   \n",
      "199   21714.620373  250061.119850   74860.624904  276559.126021   \n",
      "200   42815.775409  264889.398939   74602.554581  292321.617039   \n",
      "201  155395.390030  385435.511309   87986.061870  412690.548292   \n",
      "\n",
      "               4              5              6              7    \\\n",
      "0     53372.216100   39260.690697   30673.683784  207250.873149   \n",
      "1    288074.733923  276926.258979  207408.636739   36799.022688   \n",
      "2     34836.105302   40977.188827  110319.616169  284512.877279   \n",
      "3    313818.956903  300409.654429  232080.294553   55184.304245   \n",
      "4         0.000000   17046.898384   81840.258784  260012.361790   \n",
      "..             ...            ...            ...            ...   \n",
      "197   37318.860168   40811.991276   83771.074585  256837.573004   \n",
      "198   75607.413634   91839.027927  156357.233170  333809.911618   \n",
      "199   41172.682830   34857.378658   46295.299016  223131.869044   \n",
      "200   39959.337646   38607.596589   65536.701429  239632.877207   \n",
      "201  102457.030136  118784.257654  182746.119425  359717.588847   \n",
      "\n",
      "               8              9    ...            192            193  \\\n",
      "0    109035.213044   78197.161473  ...   35394.627123  100248.642443   \n",
      "1    346609.614856  312975.503513  ...  249802.172355  333940.023060   \n",
      "2     32977.126225   17574.226078  ...   90504.745239   32948.054505   \n",
      "3    370236.872408  338719.479124  ...  277449.757943  360217.328240   \n",
      "4     60284.016224   25100.249754  ...   55721.035080   47064.519638   \n",
      "..             ...            ...  ...            ...            ...   \n",
      "197   90959.177099   55489.213622  ...   31831.684827   68780.891282   \n",
      "198   33189.501979   52021.246348  ...  113270.063439   29623.061075   \n",
      "199  101254.942780   65519.114930  ...   20545.542568   83994.159360   \n",
      "200   97975.555632   61712.729444  ...   17191.917297   77091.654053   \n",
      "201   57493.076692   78915.637485  ...  136067.087531   56592.061728   \n",
      "\n",
      "               194            195            196            197  \\\n",
      "0    116871.436557  165481.193846  183475.202106   60770.233816   \n",
      "1    349749.811937  399062.115004  416240.268100  281405.644842   \n",
      "2     48650.600974   93288.694533  111725.631177   70353.660441   \n",
      "3    376312.036935  425521.011349  442983.277591  309154.836773   \n",
      "4     63691.622477  112240.322579  130169.671792   37318.860168   \n",
      "..             ...            ...            ...            ...   \n",
      "197   80251.370260  127762.628593  141354.081184       0.000000   \n",
      "198   13415.649159   42354.034672   56472.261937   85428.448027   \n",
      "199   99805.914250  149260.440875  166644.572832   39565.381172   \n",
      "200   89853.370160  138511.682147  153140.681071   18533.862289   \n",
      "201   40080.574033   27196.657559   37279.425304  105666.374403   \n",
      "\n",
      "               198            199            200            201  \n",
      "0    128687.635109   21714.620373   42815.775409  155395.390030  \n",
      "1    360119.702102  250061.119850  264889.398939  385435.511309  \n",
      "2     61510.907561   74860.624904   74602.554581   87986.061870  \n",
      "3    387055.019657  276559.126021  292321.617039  412690.548292  \n",
      "4     75607.413634   41172.682830   39959.337646  102457.030136  \n",
      "..             ...            ...            ...            ...  \n",
      "197   85428.448027   39565.381172   18533.862289  105666.374403  \n",
      "198       0.000000  110884.218887   96693.282992   27020.702704  \n",
      "199  110884.218887       0.000000   21366.111532  137107.587276  \n",
      "200   96693.282992   21366.111532       0.000000  120748.666597  \n",
      "201   27020.702704  137107.587276  120748.666597       0.000000  \n",
      "\n",
      "[202 rows x 202 columns]\n"
     ]
    }
   ],
   "source": [
    "print(MMinkowski)"
   ]
  },
  {
   "cell_type": "markdown",
   "metadata": {
    "id": "erqbHrWAADy2"
   },
   "source": [
    "Matriz de distancias de una parte del total de objetos"
   ]
  },
  {
   "cell_type": "code",
   "execution_count": null,
   "metadata": {
    "colab": {
     "base_uri": "https://localhost:8080/"
    },
    "executionInfo": {
     "elapsed": 152,
     "status": "ok",
     "timestamp": 1633311183894,
     "user": {
      "displayName": "Guillermo Molero-Castillo",
      "photoUrl": "https://lh3.googleusercontent.com/a/default-user=s64",
      "userId": "05385957137518665248"
     },
     "user_tz": 300
    },
    "id": "su4IXbeWADzA",
    "outputId": "bab33fa2-79d1-443b-bfc6-4b04a4b68472"
   },
   "outputs": [
    {
     "name": "stdout",
     "output_type": "stream",
     "text": [
      "               0              1              2              3              4  \\\n",
      "0       0.000000  237690.995925   79782.466760  261389.573558   53372.216100   \n",
      "1  237690.995925       0.000000  317144.541987   28999.550044  288074.733923   \n",
      "2   79782.466760  317144.541987       0.000000  339376.378955   34836.105302   \n",
      "3  261389.573558   28999.550044  339376.378955       0.000000  313818.956903   \n",
      "4   53372.216100  288074.733923   34836.105302  313818.956903       0.000000   \n",
      "5   39260.690697  276926.258979   40977.188827  300409.654429   17046.898384   \n",
      "6   30673.683784  207408.636739  110319.616169  232080.294553   81840.258784   \n",
      "7  207250.873149   36799.022688  284512.877279   55184.304245  260012.361790   \n",
      "8  109035.213044  346609.614856   32977.126225  370236.872408   60284.016224   \n",
      "9   78197.161473  312975.503513   17574.226078  338719.479124   25100.249754   \n",
      "\n",
      "               5              6              7              8              9  \n",
      "0   39260.690697   30673.683784  207250.873149  109035.213044   78197.161473  \n",
      "1  276926.258979  207408.636739   36799.022688  346609.614856  312975.503513  \n",
      "2   40977.188827  110319.616169  284512.877279   32977.126225   17574.226078  \n",
      "3  300409.654429  232080.294553   55184.304245  370236.872408  338719.479124  \n",
      "4   17046.898384   81840.258784  260012.361790   60284.016224   25100.249754  \n",
      "5       0.000000   69749.100955  246187.491676   69936.944305   40487.806354  \n",
      "6   69749.100955       0.000000  178267.963453  139247.210167  106708.022220  \n",
      "7  246187.491676  178267.963453       0.000000  315980.319533  284964.264428  \n",
      "8   69936.944305  139247.210167  315980.319533       0.000000   36693.205417  \n",
      "9   40487.806354  106708.022220  284964.264428   36693.205417       0.000000  \n"
     ]
    }
   ],
   "source": [
    "DstMinkowski = cdist(Hipoteca.iloc[0:10], Hipoteca.iloc[0:10], metric='minkowski', p=1.5)\n",
    "MMinkowski = pd.DataFrame(DstMinkowski)\n",
    "print(MMinkowski)"
   ]
  },
  {
   "cell_type": "markdown",
   "metadata": {
    "id": "k5oWahVIA9vd"
   },
   "source": [
    "Distancia entre dos objetos"
   ]
  },
  {
   "cell_type": "code",
   "execution_count": null,
   "metadata": {
    "colab": {
     "base_uri": "https://localhost:8080/"
    },
    "executionInfo": {
     "elapsed": 182,
     "status": "ok",
     "timestamp": 1633311176405,
     "user": {
      "displayName": "Guillermo Molero-Castillo",
      "photoUrl": "https://lh3.googleusercontent.com/a/default-user=s64",
      "userId": "05385957137518665248"
     },
     "user_tz": 300
    },
    "id": "x3KvnK-sA9_g",
    "outputId": "73c38543-6415-41c0-b498-9ff0202f1f85"
   },
   "outputs": [
    {
     "data": {
      "text/plain": [
       "237690.9959246789"
      ]
     },
     "execution_count": 23,
     "metadata": {},
     "output_type": "execute_result"
    }
   ],
   "source": [
    "Objeto1 = Hipoteca.iloc[0]\n",
    "Objeto2 = Hipoteca.iloc[1]\n",
    "dstMinkowski = distance.minkowski(Objeto1,Objeto2, p=1.5)\n",
    "dstMinkowski"
   ]
  }
 ],
 "metadata": {
  "colab": {
   "provenance": []
  },
  "kernelspec": {
   "display_name": "Python 3",
   "language": "python",
   "name": "python3"
  },
  "language_info": {
   "codemirror_mode": {
    "name": "ipython",
    "version": 3
   },
   "file_extension": ".py",
   "mimetype": "text/x-python",
   "name": "python",
   "nbconvert_exporter": "python",
   "pygments_lexer": "ipython3",
   "version": "3.8.3"
  }
 },
 "nbformat": 4,
 "nbformat_minor": 1
}
