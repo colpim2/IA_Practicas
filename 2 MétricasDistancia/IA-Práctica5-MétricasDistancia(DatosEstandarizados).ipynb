{
 "cells": [
  {
   "cell_type": "markdown",
   "metadata": {
    "id": "pnYOY0aH5jGf"
   },
   "source": [
    "# **Práctica 5: Métricas de distancia (datos estandarizados)**\n",
    "\n",
    "Nombre: Castillo Montes Pamela\n",
    "\n",
    "Número de cuenta: 317165935\n",
    "\n",
    "Email: pamela.castillo.montes@gmail.com"
   ]
  },
  {
   "cell_type": "markdown",
   "metadata": {
    "id": "b05A7-qViDDz"
   },
   "source": [
    "**Objetivo.** Obtener las matrices de distancia (Euclidiana, Chebyshev, Manhattan, Minkowski) a partir de una matriz de datos.\n",
    "\n",
    "\n",
    "**Fuente de datos:**\n",
    "\n",
    "Archivo: WDBCOriginal\n",
    "\n",
    "* IDNumber: Identificador empezando por \"P-\", seguido de números asociado a cada paciente\n",
    "* Diagnosis: Donde M(Maligno) y B(Benigno)\n",
    "* Radius\n",
    "* Texture\n",
    "* Perimeter\n",
    "* Area\n",
    "* Smoothness\n",
    "* Compactness\n",
    "* Concavitiy\n",
    "* ConcavePoint\n",
    "* Symmetry\n",
    "* FractalDimension"
   ]
  },
  {
   "cell_type": "markdown",
   "metadata": {
    "id": "OhmPOcypjfUv"
   },
   "source": [
    "#### **1) Importar las bibliotecas necesarias**\n"
   ]
  },
  {
   "cell_type": "code",
   "execution_count": 1,
   "metadata": {
    "executionInfo": {
     "elapsed": 216,
     "status": "ok",
     "timestamp": 1667451120699,
     "user": {
      "displayName": "Axel Fernando Rabago Diaz",
      "userId": "09864032713929554066"
     },
     "user_tz": 360
    },
    "id": "N6zYyzEQQG36"
   },
   "outputs": [],
   "source": [
    "import pandas as pd                         # Para la manipulación y análisis de datos\n",
    "import numpy as np                          # Para crear vectores y matrices n dimensionales\n",
    "import matplotlib.pyplot as plt             # Para generar gráficas a partir de los datos\n",
    "from scipy.spatial.distance import cdist    # Para el cálculo de distancias\n",
    "from scipy.spatial import distance"
   ]
  },
  {
   "cell_type": "markdown",
   "metadata": {
    "id": "uuGs6szll3vf"
   },
   "source": [
    "#### **2) Importar los datos**"
   ]
  },
  {
   "cell_type": "code",
   "execution_count": 2,
   "metadata": {
    "colab": {
     "base_uri": "https://localhost:8080/",
     "height": 444
    },
    "executionInfo": {
     "elapsed": 108,
     "status": "ok",
     "timestamp": 1633310413441,
     "user": {
      "displayName": "Guillermo Molero-Castillo",
      "photoUrl": "https://lh3.googleusercontent.com/a/default-user=s64",
      "userId": "05385957137518665248"
     },
     "user_tz": 300
    },
    "id": "Kdq7I0JVQvEB",
    "outputId": "18b849d2-7157-4a52-a3da-69b24703cb2e"
   },
   "outputs": [
    {
     "data": {
      "text/html": [
       "<div>\n",
       "<style scoped>\n",
       "    .dataframe tbody tr th:only-of-type {\n",
       "        vertical-align: middle;\n",
       "    }\n",
       "\n",
       "    .dataframe tbody tr th {\n",
       "        vertical-align: top;\n",
       "    }\n",
       "\n",
       "    .dataframe thead th {\n",
       "        text-align: right;\n",
       "    }\n",
       "</style>\n",
       "<table border=\"1\" class=\"dataframe\">\n",
       "  <thead>\n",
       "    <tr style=\"text-align: right;\">\n",
       "      <th></th>\n",
       "      <th>IDNumber</th>\n",
       "      <th>Diagnosis</th>\n",
       "      <th>Radius</th>\n",
       "      <th>Texture</th>\n",
       "      <th>Perimeter</th>\n",
       "      <th>Area</th>\n",
       "      <th>Smoothness</th>\n",
       "      <th>Compactness</th>\n",
       "      <th>Concavity</th>\n",
       "      <th>ConcavePoints</th>\n",
       "      <th>Symmetry</th>\n",
       "      <th>FractalDimension</th>\n",
       "    </tr>\n",
       "  </thead>\n",
       "  <tbody>\n",
       "    <tr>\n",
       "      <th>0</th>\n",
       "      <td>P-842302</td>\n",
       "      <td>M</td>\n",
       "      <td>17.99</td>\n",
       "      <td>10.38</td>\n",
       "      <td>122.80</td>\n",
       "      <td>1001.0</td>\n",
       "      <td>0.11840</td>\n",
       "      <td>0.27760</td>\n",
       "      <td>0.30010</td>\n",
       "      <td>0.14710</td>\n",
       "      <td>0.2419</td>\n",
       "      <td>0.07871</td>\n",
       "    </tr>\n",
       "    <tr>\n",
       "      <th>1</th>\n",
       "      <td>P-842517</td>\n",
       "      <td>M</td>\n",
       "      <td>20.57</td>\n",
       "      <td>17.77</td>\n",
       "      <td>132.90</td>\n",
       "      <td>1326.0</td>\n",
       "      <td>0.08474</td>\n",
       "      <td>0.07864</td>\n",
       "      <td>0.08690</td>\n",
       "      <td>0.07017</td>\n",
       "      <td>0.1812</td>\n",
       "      <td>0.05667</td>\n",
       "    </tr>\n",
       "    <tr>\n",
       "      <th>2</th>\n",
       "      <td>P-84300903</td>\n",
       "      <td>M</td>\n",
       "      <td>19.69</td>\n",
       "      <td>21.25</td>\n",
       "      <td>130.00</td>\n",
       "      <td>1203.0</td>\n",
       "      <td>0.10960</td>\n",
       "      <td>0.15990</td>\n",
       "      <td>0.19740</td>\n",
       "      <td>0.12790</td>\n",
       "      <td>0.2069</td>\n",
       "      <td>0.05999</td>\n",
       "    </tr>\n",
       "    <tr>\n",
       "      <th>3</th>\n",
       "      <td>P-84348301</td>\n",
       "      <td>M</td>\n",
       "      <td>11.42</td>\n",
       "      <td>20.38</td>\n",
       "      <td>77.58</td>\n",
       "      <td>386.1</td>\n",
       "      <td>0.14250</td>\n",
       "      <td>0.28390</td>\n",
       "      <td>0.24140</td>\n",
       "      <td>0.10520</td>\n",
       "      <td>0.2597</td>\n",
       "      <td>0.09744</td>\n",
       "    </tr>\n",
       "    <tr>\n",
       "      <th>4</th>\n",
       "      <td>P-84358402</td>\n",
       "      <td>M</td>\n",
       "      <td>20.29</td>\n",
       "      <td>14.34</td>\n",
       "      <td>135.10</td>\n",
       "      <td>1297.0</td>\n",
       "      <td>0.10030</td>\n",
       "      <td>0.13280</td>\n",
       "      <td>0.19800</td>\n",
       "      <td>0.10430</td>\n",
       "      <td>0.1809</td>\n",
       "      <td>0.05883</td>\n",
       "    </tr>\n",
       "    <tr>\n",
       "      <th>...</th>\n",
       "      <td>...</td>\n",
       "      <td>...</td>\n",
       "      <td>...</td>\n",
       "      <td>...</td>\n",
       "      <td>...</td>\n",
       "      <td>...</td>\n",
       "      <td>...</td>\n",
       "      <td>...</td>\n",
       "      <td>...</td>\n",
       "      <td>...</td>\n",
       "      <td>...</td>\n",
       "      <td>...</td>\n",
       "    </tr>\n",
       "    <tr>\n",
       "      <th>564</th>\n",
       "      <td>P-926424</td>\n",
       "      <td>M</td>\n",
       "      <td>21.56</td>\n",
       "      <td>22.39</td>\n",
       "      <td>142.00</td>\n",
       "      <td>1479.0</td>\n",
       "      <td>0.11100</td>\n",
       "      <td>0.11590</td>\n",
       "      <td>0.24390</td>\n",
       "      <td>0.13890</td>\n",
       "      <td>0.1726</td>\n",
       "      <td>0.05623</td>\n",
       "    </tr>\n",
       "    <tr>\n",
       "      <th>565</th>\n",
       "      <td>P-926682</td>\n",
       "      <td>M</td>\n",
       "      <td>20.13</td>\n",
       "      <td>28.25</td>\n",
       "      <td>131.20</td>\n",
       "      <td>1261.0</td>\n",
       "      <td>0.09780</td>\n",
       "      <td>0.10340</td>\n",
       "      <td>0.14400</td>\n",
       "      <td>0.09791</td>\n",
       "      <td>0.1752</td>\n",
       "      <td>0.05533</td>\n",
       "    </tr>\n",
       "    <tr>\n",
       "      <th>566</th>\n",
       "      <td>P-926954</td>\n",
       "      <td>M</td>\n",
       "      <td>16.60</td>\n",
       "      <td>28.08</td>\n",
       "      <td>108.30</td>\n",
       "      <td>858.1</td>\n",
       "      <td>0.08455</td>\n",
       "      <td>0.10230</td>\n",
       "      <td>0.09251</td>\n",
       "      <td>0.05302</td>\n",
       "      <td>0.1590</td>\n",
       "      <td>0.05648</td>\n",
       "    </tr>\n",
       "    <tr>\n",
       "      <th>567</th>\n",
       "      <td>P-927241</td>\n",
       "      <td>M</td>\n",
       "      <td>20.60</td>\n",
       "      <td>29.33</td>\n",
       "      <td>140.10</td>\n",
       "      <td>1265.0</td>\n",
       "      <td>0.11780</td>\n",
       "      <td>0.27700</td>\n",
       "      <td>0.35140</td>\n",
       "      <td>0.15200</td>\n",
       "      <td>0.2397</td>\n",
       "      <td>0.07016</td>\n",
       "    </tr>\n",
       "    <tr>\n",
       "      <th>568</th>\n",
       "      <td>P-92751</td>\n",
       "      <td>B</td>\n",
       "      <td>7.76</td>\n",
       "      <td>24.54</td>\n",
       "      <td>47.92</td>\n",
       "      <td>181.0</td>\n",
       "      <td>0.05263</td>\n",
       "      <td>0.04362</td>\n",
       "      <td>0.00000</td>\n",
       "      <td>0.00000</td>\n",
       "      <td>0.1587</td>\n",
       "      <td>0.05884</td>\n",
       "    </tr>\n",
       "  </tbody>\n",
       "</table>\n",
       "<p>569 rows × 12 columns</p>\n",
       "</div>"
      ],
      "text/plain": [
       "       IDNumber Diagnosis  Radius  Texture  Perimeter    Area  Smoothness  \\\n",
       "0      P-842302         M   17.99    10.38     122.80  1001.0     0.11840   \n",
       "1      P-842517         M   20.57    17.77     132.90  1326.0     0.08474   \n",
       "2    P-84300903         M   19.69    21.25     130.00  1203.0     0.10960   \n",
       "3    P-84348301         M   11.42    20.38      77.58   386.1     0.14250   \n",
       "4    P-84358402         M   20.29    14.34     135.10  1297.0     0.10030   \n",
       "..          ...       ...     ...      ...        ...     ...         ...   \n",
       "564    P-926424         M   21.56    22.39     142.00  1479.0     0.11100   \n",
       "565    P-926682         M   20.13    28.25     131.20  1261.0     0.09780   \n",
       "566    P-926954         M   16.60    28.08     108.30   858.1     0.08455   \n",
       "567    P-927241         M   20.60    29.33     140.10  1265.0     0.11780   \n",
       "568     P-92751         B    7.76    24.54      47.92   181.0     0.05263   \n",
       "\n",
       "     Compactness  Concavity  ConcavePoints  Symmetry  FractalDimension  \n",
       "0        0.27760    0.30010        0.14710    0.2419           0.07871  \n",
       "1        0.07864    0.08690        0.07017    0.1812           0.05667  \n",
       "2        0.15990    0.19740        0.12790    0.2069           0.05999  \n",
       "3        0.28390    0.24140        0.10520    0.2597           0.09744  \n",
       "4        0.13280    0.19800        0.10430    0.1809           0.05883  \n",
       "..           ...        ...            ...       ...               ...  \n",
       "564      0.11590    0.24390        0.13890    0.1726           0.05623  \n",
       "565      0.10340    0.14400        0.09791    0.1752           0.05533  \n",
       "566      0.10230    0.09251        0.05302    0.1590           0.05648  \n",
       "567      0.27700    0.35140        0.15200    0.2397           0.07016  \n",
       "568      0.04362    0.00000        0.00000    0.1587           0.05884  \n",
       "\n",
       "[569 rows x 12 columns]"
      ]
     },
     "execution_count": 2,
     "metadata": {},
     "output_type": "execute_result"
    }
   ],
   "source": [
    "Datos = pd.read_csv(\"Datos/WDBCOriginal.csv\") #Considerando que existe un encabezado\n",
    "Datos"
   ]
  },
  {
   "cell_type": "code",
   "execution_count": 3,
   "metadata": {
    "colab": {
     "base_uri": "https://localhost:8080/"
    },
    "executionInfo": {
     "elapsed": 138,
     "status": "ok",
     "timestamp": 1633310420472,
     "user": {
      "displayName": "Guillermo Molero-Castillo",
      "photoUrl": "https://lh3.googleusercontent.com/a/default-user=s64",
      "userId": "05385957137518665248"
     },
     "user_tz": 300
    },
    "id": "rXSmHDzwrRjd",
    "outputId": "0b7272d0-6282-4bc0-b408-d5d090874e09"
   },
   "outputs": [
    {
     "name": "stdout",
     "output_type": "stream",
     "text": [
      "<class 'pandas.core.frame.DataFrame'>\n",
      "RangeIndex: 569 entries, 0 to 568\n",
      "Data columns (total 12 columns):\n",
      " #   Column            Non-Null Count  Dtype  \n",
      "---  ------            --------------  -----  \n",
      " 0   IDNumber          569 non-null    object \n",
      " 1   Diagnosis         569 non-null    object \n",
      " 2   Radius            569 non-null    float64\n",
      " 3   Texture           569 non-null    float64\n",
      " 4   Perimeter         569 non-null    float64\n",
      " 5   Area              569 non-null    float64\n",
      " 6   Smoothness        569 non-null    float64\n",
      " 7   Compactness       569 non-null    float64\n",
      " 8   Concavity         569 non-null    float64\n",
      " 9   ConcavePoints     569 non-null    float64\n",
      " 10  Symmetry          569 non-null    float64\n",
      " 11  FractalDimension  569 non-null    float64\n",
      "dtypes: float64(10), object(2)\n",
      "memory usage: 53.5+ KB\n"
     ]
    }
   ],
   "source": [
    "Datos.info() #Caracteristicas de la información guardada"
   ]
  },
  {
   "cell_type": "markdown",
   "metadata": {},
   "source": [
    "Podemos observar que tenemos cadenas por lo que procedemos a eliminar dichas columnas para la estandarización"
   ]
  },
  {
   "cell_type": "code",
   "execution_count": 4,
   "metadata": {},
   "outputs": [],
   "source": [
    "Datos = Datos.drop(columns=['IDNumber','Diagnosis'])"
   ]
  },
  {
   "cell_type": "markdown",
   "metadata": {},
   "source": [
    "Y generamos el mapa de calor con los nuevos datos obtenidos"
   ]
  },
  {
   "cell_type": "code",
   "execution_count": 6,
   "metadata": {},
   "outputs": [
    {
     "data": {
      "image/png": "[encoded data removed]",
      "text/plain": [
       "<Figure size 360x288 with 2 Axes>"
      ]
     },
     "metadata": {
      "needs_background": "light"
     },
     "output_type": "display_data"
    }
   ],
   "source": [
    "import seaborn as sea \n",
    "plt.figure(figsize=(5,4))\n",
    "MapaCalor=np.triu(Datos.corr())\n",
    "sea.heatmap(Datos.corr(),cmap='RdBu_r', annot=True, mask=MapaCalor)\n",
    "plt.show()"
   ]
  },
  {
   "cell_type": "markdown",
   "metadata": {
    "id": "CzJj--8CriU5"
   },
   "source": [
    "**Estandarización de datos**\n",
    "\n",
    "En los algoritmos basados en distancias es fundamental escalar o normalizar los datos para que cada una de las variables contribuyan por igual en el análisis."
   ]
  },
  {
   "cell_type": "code",
   "execution_count": 7,
   "metadata": {
    "id": "UAA9sqj6r3xG"
   },
   "outputs": [],
   "source": [
    "from sklearn.preprocessing import StandardScaler, MinMaxScaler  \n",
    "estandarizar = StandardScaler()                               \n",
    "MEstandarizada = estandarizar.fit_transform(Datos)            "
   ]
  },
  {
   "cell_type": "code",
   "execution_count": 8,
   "metadata": {
    "colab": {
     "base_uri": "https://localhost:8080/",
     "height": 424
    },
    "executionInfo": {
     "elapsed": 230,
     "status": "ok",
     "timestamp": 1633307604719,
     "user": {
      "displayName": "Guillermo Molero-Castillo",
      "photoUrl": "https://lh3.googleusercontent.com/a/default-user=s64",
      "userId": "05385957137518665248"
     },
     "user_tz": 300
    },
    "id": "5q-FQcZssZJE",
    "outputId": "d7538f26-d196-4876-fbc7-97481c2a1b7b"
   },
   "outputs": [
    {
     "data": {
      "text/html": [
       "<div>\n",
       "<style scoped>\n",
       "    .dataframe tbody tr th:only-of-type {\n",
       "        vertical-align: middle;\n",
       "    }\n",
       "\n",
       "    .dataframe tbody tr th {\n",
       "        vertical-align: top;\n",
       "    }\n",
       "\n",
       "    .dataframe thead th {\n",
       "        text-align: right;\n",
       "    }\n",
       "</style>\n",
       "<table border=\"1\" class=\"dataframe\">\n",
       "  <thead>\n",
       "    <tr style=\"text-align: right;\">\n",
       "      <th></th>\n",
       "      <th>0</th>\n",
       "      <th>1</th>\n",
       "      <th>2</th>\n",
       "      <th>3</th>\n",
       "      <th>4</th>\n",
       "      <th>5</th>\n",
       "      <th>6</th>\n",
       "      <th>7</th>\n",
       "      <th>8</th>\n",
       "      <th>9</th>\n",
       "    </tr>\n",
       "  </thead>\n",
       "  <tbody>\n",
       "    <tr>\n",
       "      <th>0</th>\n",
       "      <td>1.097064</td>\n",
       "      <td>-2.073335</td>\n",
       "      <td>1.269934</td>\n",
       "      <td>0.984375</td>\n",
       "      <td>1.568466</td>\n",
       "      <td>3.283515</td>\n",
       "      <td>2.652874</td>\n",
       "      <td>2.532475</td>\n",
       "      <td>2.217515</td>\n",
       "      <td>2.255747</td>\n",
       "    </tr>\n",
       "    <tr>\n",
       "      <th>1</th>\n",
       "      <td>1.829821</td>\n",
       "      <td>-0.353632</td>\n",
       "      <td>1.685955</td>\n",
       "      <td>1.908708</td>\n",
       "      <td>-0.826962</td>\n",
       "      <td>-0.487072</td>\n",
       "      <td>-0.023846</td>\n",
       "      <td>0.548144</td>\n",
       "      <td>0.001392</td>\n",
       "      <td>-0.868652</td>\n",
       "    </tr>\n",
       "    <tr>\n",
       "      <th>2</th>\n",
       "      <td>1.579888</td>\n",
       "      <td>0.456187</td>\n",
       "      <td>1.566503</td>\n",
       "      <td>1.558884</td>\n",
       "      <td>0.942210</td>\n",
       "      <td>1.052926</td>\n",
       "      <td>1.363478</td>\n",
       "      <td>2.037231</td>\n",
       "      <td>0.939685</td>\n",
       "      <td>-0.398008</td>\n",
       "    </tr>\n",
       "    <tr>\n",
       "      <th>3</th>\n",
       "      <td>-0.768909</td>\n",
       "      <td>0.253732</td>\n",
       "      <td>-0.592687</td>\n",
       "      <td>-0.764464</td>\n",
       "      <td>3.283553</td>\n",
       "      <td>3.402909</td>\n",
       "      <td>1.915897</td>\n",
       "      <td>1.451707</td>\n",
       "      <td>2.867383</td>\n",
       "      <td>4.910919</td>\n",
       "    </tr>\n",
       "    <tr>\n",
       "      <th>4</th>\n",
       "      <td>1.750297</td>\n",
       "      <td>-1.151816</td>\n",
       "      <td>1.776573</td>\n",
       "      <td>1.826229</td>\n",
       "      <td>0.280372</td>\n",
       "      <td>0.539340</td>\n",
       "      <td>1.371011</td>\n",
       "      <td>1.428493</td>\n",
       "      <td>-0.009560</td>\n",
       "      <td>-0.562450</td>\n",
       "    </tr>\n",
       "    <tr>\n",
       "      <th>...</th>\n",
       "      <td>...</td>\n",
       "      <td>...</td>\n",
       "      <td>...</td>\n",
       "      <td>...</td>\n",
       "      <td>...</td>\n",
       "      <td>...</td>\n",
       "      <td>...</td>\n",
       "      <td>...</td>\n",
       "      <td>...</td>\n",
       "      <td>...</td>\n",
       "    </tr>\n",
       "    <tr>\n",
       "      <th>564</th>\n",
       "      <td>2.110995</td>\n",
       "      <td>0.721473</td>\n",
       "      <td>2.060786</td>\n",
       "      <td>2.343856</td>\n",
       "      <td>1.041842</td>\n",
       "      <td>0.219060</td>\n",
       "      <td>1.947285</td>\n",
       "      <td>2.320965</td>\n",
       "      <td>-0.312589</td>\n",
       "      <td>-0.931027</td>\n",
       "    </tr>\n",
       "    <tr>\n",
       "      <th>565</th>\n",
       "      <td>1.704854</td>\n",
       "      <td>2.085134</td>\n",
       "      <td>1.615931</td>\n",
       "      <td>1.723842</td>\n",
       "      <td>0.102458</td>\n",
       "      <td>-0.017833</td>\n",
       "      <td>0.693043</td>\n",
       "      <td>1.263669</td>\n",
       "      <td>-0.217664</td>\n",
       "      <td>-1.058611</td>\n",
       "    </tr>\n",
       "    <tr>\n",
       "      <th>566</th>\n",
       "      <td>0.702284</td>\n",
       "      <td>2.045574</td>\n",
       "      <td>0.672676</td>\n",
       "      <td>0.577953</td>\n",
       "      <td>-0.840484</td>\n",
       "      <td>-0.038680</td>\n",
       "      <td>0.046588</td>\n",
       "      <td>0.105777</td>\n",
       "      <td>-0.809117</td>\n",
       "      <td>-0.895587</td>\n",
       "    </tr>\n",
       "    <tr>\n",
       "      <th>567</th>\n",
       "      <td>1.838341</td>\n",
       "      <td>2.336457</td>\n",
       "      <td>1.982524</td>\n",
       "      <td>1.735218</td>\n",
       "      <td>1.525767</td>\n",
       "      <td>3.272144</td>\n",
       "      <td>3.296944</td>\n",
       "      <td>2.658866</td>\n",
       "      <td>2.137194</td>\n",
       "      <td>1.043695</td>\n",
       "    </tr>\n",
       "    <tr>\n",
       "      <th>568</th>\n",
       "      <td>-1.808401</td>\n",
       "      <td>1.221792</td>\n",
       "      <td>-1.814389</td>\n",
       "      <td>-1.347789</td>\n",
       "      <td>-3.112085</td>\n",
       "      <td>-1.150752</td>\n",
       "      <td>-1.114873</td>\n",
       "      <td>-1.261820</td>\n",
       "      <td>-0.820070</td>\n",
       "      <td>-0.561032</td>\n",
       "    </tr>\n",
       "  </tbody>\n",
       "</table>\n",
       "<p>569 rows × 10 columns</p>\n",
       "</div>"
      ],
      "text/plain": [
       "            0         1         2         3         4         5         6  \\\n",
       "0    1.097064 -2.073335  1.269934  0.984375  1.568466  3.283515  2.652874   \n",
       "1    1.829821 -0.353632  1.685955  1.908708 -0.826962 -0.487072 -0.023846   \n",
       "2    1.579888  0.456187  1.566503  1.558884  0.942210  1.052926  1.363478   \n",
       "3   -0.768909  0.253732 -0.592687 -0.764464  3.283553  3.402909  1.915897   \n",
       "4    1.750297 -1.151816  1.776573  1.826229  0.280372  0.539340  1.371011   \n",
       "..        ...       ...       ...       ...       ...       ...       ...   \n",
       "564  2.110995  0.721473  2.060786  2.343856  1.041842  0.219060  1.947285   \n",
       "565  1.704854  2.085134  1.615931  1.723842  0.102458 -0.017833  0.693043   \n",
       "566  0.702284  2.045574  0.672676  0.577953 -0.840484 -0.038680  0.046588   \n",
       "567  1.838341  2.336457  1.982524  1.735218  1.525767  3.272144  3.296944   \n",
       "568 -1.808401  1.221792 -1.814389 -1.347789 -3.112085 -1.150752 -1.114873   \n",
       "\n",
       "            7         8         9  \n",
       "0    2.532475  2.217515  2.255747  \n",
       "1    0.548144  0.001392 -0.868652  \n",
       "2    2.037231  0.939685 -0.398008  \n",
       "3    1.451707  2.867383  4.910919  \n",
       "4    1.428493 -0.009560 -0.562450  \n",
       "..        ...       ...       ...  \n",
       "564  2.320965 -0.312589 -0.931027  \n",
       "565  1.263669 -0.217664 -1.058611  \n",
       "566  0.105777 -0.809117 -0.895587  \n",
       "567  2.658866  2.137194  1.043695  \n",
       "568 -1.261820 -0.820070 -0.561032  \n",
       "\n",
       "[569 rows x 10 columns]"
      ]
     },
     "execution_count": 8,
     "metadata": {},
     "output_type": "execute_result"
    }
   ],
   "source": [
    "pd.DataFrame(MEstandarizada) "
   ]
  },
  {
   "cell_type": "markdown",
   "metadata": {
    "id": "t0Ong23Yl8eY"
   },
   "source": [
    "#### **3) Matrices de distancia**"
   ]
  },
  {
   "cell_type": "markdown",
   "metadata": {
    "id": "I3uEnrDx--At"
   },
   "source": [
    "**a) Matriz de distancias: Euclidiana**"
   ]
  },
  {
   "cell_type": "code",
   "execution_count": 9,
   "metadata": {
    "id": "yolJSfM6yVWa"
   },
   "outputs": [],
   "source": [
    "DstEuclidiana = cdist(MEstandarizada, MEstandarizada, metric='euclidean')\n",
    "MEuclidiana = pd.DataFrame(DstEuclidiana)"
   ]
  },
  {
   "cell_type": "code",
   "execution_count": 10,
   "metadata": {
    "colab": {
     "base_uri": "https://localhost:8080/"
    },
    "executionInfo": {
     "elapsed": 180,
     "status": "ok",
     "timestamp": 1633307567508,
     "user": {
      "displayName": "Guillermo Molero-Castillo",
      "photoUrl": "https://lh3.googleusercontent.com/a/default-user=s64",
      "userId": "05385957137518665248"
     },
     "user_tz": 300
    },
    "id": "pnchjOx2_aBz",
    "outputId": "6f9fa18e-151c-4e30-c816-1be32d08d521"
   },
   "outputs": [
    {
     "name": "stdout",
     "output_type": "stream",
     "text": [
      "           0         1         2          3         4         5         6    \\\n",
      "0     0.000000  7.088910  4.795874   5.250155  5.214886  4.614290  6.442305   \n",
      "1     7.088910  0.000000  3.405940   9.883573  2.398472  6.128028  1.617756   \n",
      "2     4.795874  3.405940  0.000000   7.692264  2.175050  4.758819  2.631164   \n",
      "3     5.250155  9.883573  7.692264   0.000000  8.740606  4.606783  8.766836   \n",
      "4     5.214886  2.398472  2.175050   8.740606  0.000000  5.212358  2.273124   \n",
      "..         ...       ...       ...        ...       ...       ...       ...   \n",
      "564   6.170932  3.561816  2.047398   9.239833  2.454937  6.230055  3.254004   \n",
      "565   7.330945  2.862911  2.715544   9.436503  3.410951  6.231692  2.306588   \n",
      "566   8.139789  3.299199  4.265876   9.495713  4.465735  5.945304  2.391051   \n",
      "567   4.793285  7.122026  4.087677   6.780535  5.801467  6.476343  6.347867   \n",
      "568  11.026136  7.033761  8.566715  11.206199  8.349087  7.792580  6.435405   \n",
      "\n",
      "          7         8         9    ...       559       560        561  \\\n",
      "0    5.295066  4.531865  4.851761  ...  8.079625  8.046872  11.234240   \n",
      "1    5.377775  6.314865  7.048714  ...  5.152265  4.376485   6.429882   \n",
      "2    4.291535  4.265551  5.165418  ...  5.645135  4.854186   7.977661   \n",
      "3    5.144048  4.157474  3.694479  ...  8.385488  8.546116  11.585901   \n",
      "4    5.045538  5.441371  6.159409  ...  5.628596  5.167677   7.785230   \n",
      "..        ...       ...       ...  ...       ...       ...        ...   \n",
      "564  5.895989  5.937925  6.590918  ...  6.293652  5.524453   8.174023   \n",
      "565  5.283175  5.771127  6.349456  ...  4.978714  3.781965   6.272573   \n",
      "566  4.851328  5.771275  6.063886  ...  3.059706  1.935877   3.970557   \n",
      "567  6.113647  5.174922  5.286288  ...  8.185320  7.535755  10.735847   \n",
      "568  7.003019  8.127417  8.205981  ...  4.077092  4.761096   3.142366   \n",
      "\n",
      "          562        563       564       565       566        567        568  \n",
      "0    5.574927   4.298910  6.170932  7.330945  8.139789   4.793285  11.026136  \n",
      "1    5.869016   5.536259  3.561816  2.862911  3.299199   7.122026   7.033761  \n",
      "2    3.800330   2.645220  2.047398  2.715544  4.265876   4.087677   8.566715  \n",
      "3    5.884749   7.152994  9.239833  9.436503  9.495713   6.780535  11.206199  \n",
      "4    5.309982   4.106281  2.454937  3.410951  4.465735   5.801467   8.349087  \n",
      "..        ...        ...       ...       ...       ...        ...        ...  \n",
      "564  5.061575   3.346253  0.000000  2.502335  4.600006   4.944826   9.273418  \n",
      "565  4.391818   4.350687  2.502335  0.000000  2.496816   5.635351   7.494282  \n",
      "566  4.532844   5.967745  4.600006  2.496816  0.000000   7.107429   5.157942  \n",
      "567  3.788640   1.855940  4.944826  5.635351  7.107429   0.000000  11.211192  \n",
      "568  7.804179  10.251895  9.273418  7.494282  5.157942  11.211192   0.000000  \n",
      "\n",
      "[569 rows x 569 columns]\n"
     ]
    }
   ],
   "source": [
    "print(MEuclidiana)\n",
    "#MEuclidiana "
   ]
  },
  {
   "cell_type": "code",
   "execution_count": 11,
   "metadata": {
    "colab": {
     "base_uri": "https://localhost:8080/"
    },
    "executionInfo": {
     "elapsed": 159,
     "status": "ok",
     "timestamp": 1633307649469,
     "user": {
      "displayName": "Guillermo Molero-Castillo",
      "photoUrl": "https://lh3.googleusercontent.com/a/default-user=s64",
      "userId": "05385957137518665248"
     },
     "user_tz": 300
    },
    "id": "NX8EtpHSoL6k",
    "outputId": "c0fe34ad-02d3-47f7-c9d3-6aea53295d7b"
   },
   "outputs": [
    {
     "name": "stdout",
     "output_type": "stream",
     "text": [
      "        0      1      2       3      4      5      6      7      8      9    \\\n",
      "0     0.000  7.089  4.796   5.250  5.215  4.614  6.442  5.295  4.532  4.852   \n",
      "1     7.089  0.000  3.406   9.884  2.398  6.128  1.618  5.378  6.315  7.049   \n",
      "2     4.796  3.406  0.000   7.692  2.175  4.759  2.631  4.292  4.266  5.165   \n",
      "3     5.250  9.884  7.692   0.000  8.741  4.607  8.767  5.144  4.157  3.694   \n",
      "4     5.215  2.398  2.175   8.741  0.000  5.212  2.273  5.046  5.441  6.159   \n",
      "..      ...    ...    ...     ...    ...    ...    ...    ...    ...    ...   \n",
      "564   6.171  3.562  2.047   9.240  2.455  6.230  3.254  5.896  5.938  6.591   \n",
      "565   7.331  2.863  2.716   9.437  3.411  6.232  2.307  5.283  5.771  6.349   \n",
      "566   8.140  3.299  4.266   9.496  4.466  5.945  2.391  4.851  5.771  6.064   \n",
      "567   4.793  7.122  4.088   6.781  5.801  6.476  6.348  6.114  5.175  5.286   \n",
      "568  11.026  7.034  8.567  11.206  8.349  7.793  6.435  7.003  8.127  8.206   \n",
      "\n",
      "     ...    559    560     561    562     563    564    565    566     567  \\\n",
      "0    ...  8.080  8.047  11.234  5.575   4.299  6.171  7.331  8.140   4.793   \n",
      "1    ...  5.152  4.376   6.430  5.869   5.536  3.562  2.863  3.299   7.122   \n",
      "2    ...  5.645  4.854   7.978  3.800   2.645  2.047  2.716  4.266   4.088   \n",
      "3    ...  8.385  8.546  11.586  5.885   7.153  9.240  9.437  9.496   6.781   \n",
      "4    ...  5.629  5.168   7.785  5.310   4.106  2.455  3.411  4.466   5.801   \n",
      "..   ...    ...    ...     ...    ...     ...    ...    ...    ...     ...   \n",
      "564  ...  6.294  5.524   8.174  5.062   3.346  0.000  2.502  4.600   4.945   \n",
      "565  ...  4.979  3.782   6.273  4.392   4.351  2.502  0.000  2.497   5.635   \n",
      "566  ...  3.060  1.936   3.971  4.533   5.968  4.600  2.497  0.000   7.107   \n",
      "567  ...  8.185  7.536  10.736  3.789   1.856  4.945  5.635  7.107   0.000   \n",
      "568  ...  4.077  4.761   3.142  7.804  10.252  9.273  7.494  5.158  11.211   \n",
      "\n",
      "        568  \n",
      "0    11.026  \n",
      "1     7.034  \n",
      "2     8.567  \n",
      "3    11.206  \n",
      "4     8.349  \n",
      "..      ...  \n",
      "564   9.273  \n",
      "565   7.494  \n",
      "566   5.158  \n",
      "567  11.211  \n",
      "568   0.000  \n",
      "\n",
      "[569 rows x 569 columns]\n"
     ]
    }
   ],
   "source": [
    "print(MEuclidiana.round(3))"
   ]
  },
  {
   "cell_type": "markdown",
   "metadata": {
    "id": "1WPWHVnkrLWI"
   },
   "source": [
    "Matriz de distancias de una parte del total de objetos"
   ]
  },
  {
   "cell_type": "code",
   "execution_count": 12,
   "metadata": {
    "colab": {
     "base_uri": "https://localhost:8080/"
    },
    "executionInfo": {
     "elapsed": 211,
     "status": "ok",
     "timestamp": 1633307817926,
     "user": {
      "displayName": "Guillermo Molero-Castillo",
      "photoUrl": "https://lh3.googleusercontent.com/a/default-user=s64",
      "userId": "05385957137518665248"
     },
     "user_tz": 300
    },
    "id": "QJMTRTpoqoRC",
    "outputId": "7bfc9575-8b5d-4011-ed1d-73f215b58409"
   },
   "outputs": [
    {
     "name": "stdout",
     "output_type": "stream",
     "text": [
      "          0         1         2         3         4         5         6  \\\n",
      "0  0.000000  7.088910  4.795874  5.250155  5.214886  4.614290  6.442305   \n",
      "1  7.088910  0.000000  3.405940  9.883573  2.398472  6.128028  1.617756   \n",
      "2  4.795874  3.405940  0.000000  7.692264  2.175050  4.758819  2.631164   \n",
      "3  5.250155  9.883573  7.692264  0.000000  8.740606  4.606783  8.766836   \n",
      "4  5.214886  2.398472  2.175050  8.740606  0.000000  5.212358  2.273124   \n",
      "5  4.614290  6.128028  4.758819  4.606783  5.212358  0.000000  4.902558   \n",
      "6  6.442305  1.617756  2.631164  8.766836  2.273124  4.902558  0.000000   \n",
      "7  5.295066  5.377775  4.291535  5.144048  5.045538  1.816667  4.147147   \n",
      "8  4.531865  6.314865  4.265551  4.157474  5.441371  1.885945  4.996583   \n",
      "9  4.851761  7.048714  5.165418  3.694479  6.159409  2.748535  5.729745   \n",
      "\n",
      "          7         8         9  \n",
      "0  5.295066  4.531865  4.851761  \n",
      "1  5.377775  6.314865  7.048714  \n",
      "2  4.291535  4.265551  5.165418  \n",
      "3  5.144048  4.157474  3.694479  \n",
      "4  5.045538  5.441371  6.159409  \n",
      "5  1.816667  1.885945  2.748535  \n",
      "6  4.147147  4.996583  5.729745  \n",
      "7  0.000000  1.790610  2.781820  \n",
      "8  1.790610  0.000000  2.151304  \n",
      "9  2.781820  2.151304  0.000000  \n"
     ]
    }
   ],
   "source": [
    "DstEuclidiana = cdist(MEstandarizada[0:10], MEstandarizada[0:10], metric='euclidean')\n",
    "MEuclidiana = pd.DataFrame(DstEuclidiana)\n",
    "print(MEuclidiana) "
   ]
  },
  {
   "cell_type": "markdown",
   "metadata": {
    "id": "DQElWCmSrqsA"
   },
   "source": [
    "Distancia entre dos objetos"
   ]
  },
  {
   "cell_type": "code",
   "execution_count": 13,
   "metadata": {
    "colab": {
     "base_uri": "https://localhost:8080/"
    },
    "executionInfo": {
     "elapsed": 167,
     "status": "ok",
     "timestamp": 1633309626835,
     "user": {
      "displayName": "Guillermo Molero-Castillo",
      "photoUrl": "https://lh3.googleusercontent.com/a/default-user=s64",
      "userId": "05385957137518665248"
     },
     "user_tz": 300
    },
    "id": "He8ZKAtzoJm-",
    "outputId": "293d8591-2c61-4c41-f29b-85414b60a6b0"
   },
   "outputs": [
    {
     "data": {
      "text/plain": [
       "7.08891001029988"
      ]
     },
     "execution_count": 13,
     "metadata": {},
     "output_type": "execute_result"
    }
   ],
   "source": [
    "Objeto1 = MEstandarizada[0]\n",
    "Objeto2 = MEstandarizada[1]\n",
    "dstEuclidiana = distance.euclidean(Objeto1,Objeto2)\n",
    "dstEuclidiana "
   ]
  },
  {
   "cell_type": "markdown",
   "metadata": {
    "id": "ByhD6VXyBbf8"
   },
   "source": [
    "**b) Matriz de distancias: Chebyshev**"
   ]
  },
  {
   "cell_type": "code",
   "execution_count": 14,
   "metadata": {
    "id": "hZxcwmX2BkkO"
   },
   "outputs": [],
   "source": [
    "DstChebyshev = cdist(MEstandarizada, MEstandarizada, metric='chebyshev')\n",
    "MChebyshev = pd.DataFrame(DstChebyshev)"
   ]
  },
  {
   "cell_type": "code",
   "execution_count": 15,
   "metadata": {
    "colab": {
     "base_uri": "https://localhost:8080/"
    },
    "executionInfo": {
     "elapsed": 4,
     "status": "ok",
     "timestamp": 1633308036293,
     "user": {
      "displayName": "Guillermo Molero-Castillo",
      "photoUrl": "https://lh3.googleusercontent.com/a/default-user=s64",
      "userId": "05385957137518665248"
     },
     "user_tz": 300
    },
    "id": "ceDvx0h3BpgS",
    "outputId": "8707336c-5a44-489e-a2b0-24b814fb73f5"
   },
   "outputs": [
    {
     "name": "stdout",
     "output_type": "stream",
     "text": [
      "          0         1         2         3         4         5         6    \\\n",
      "0    0.000000  3.770586  2.653755  2.655172  2.818197  2.039179  3.195219   \n",
      "1    3.770586  0.000000  1.769173  5.779572  1.394857  3.064384  0.813413   \n",
      "2    2.653755  1.769173  0.000000  5.308927  1.608003  2.288013  1.390296   \n",
      "3    2.655172  5.779572  5.308927  0.000000  5.473369  3.020914  5.673251   \n",
      "4    2.818197  1.394857  1.608003  5.473369  0.000000  2.452455  1.312466   \n",
      "..        ...       ...       ...       ...       ...       ...       ...   \n",
      "564  3.186774  1.971130  1.252274  5.841946  1.873289  2.849506  1.674029   \n",
      "565  4.158469  2.438766  1.628947  5.969531  3.236950  2.948616  1.924485   \n",
      "566  4.118909  2.399206  1.931453  5.806506  3.197390  3.077905  1.884924   \n",
      "567  4.409792  3.759215  2.219218  3.867224  3.488274  3.171792  3.183849   \n",
      "568  4.680551  3.638222  4.054295  6.395638  3.590962  5.349506  2.988949   \n",
      "\n",
      "          7         8         9    ...       559       560       561  \\\n",
      "0    2.591848  2.662165  3.178774  ...  3.764123  3.902492  4.961632   \n",
      "1    2.529006  3.028801  3.651748  ...  2.623685  2.182789  2.745509   \n",
      "2    2.058361  1.970470  3.181104  ...  2.486292  2.188877  3.683802   \n",
      "3    3.250566  3.338458  2.127824  ...  4.499475  5.065099  6.013476   \n",
      "4    2.222803  2.210437  3.345546  ...  2.541206  2.980973  3.497582   \n",
      "..        ...       ...       ...  ...       ...       ...       ...   \n",
      "564  2.591380  2.728063  3.714123  ...  3.058832  2.501955  3.582784   \n",
      "565  2.718965  2.631073  3.841707  ...  2.448202  1.878814  2.536247   \n",
      "566  2.555940  3.042323  3.678683  ...  1.445632  1.048979  1.935000   \n",
      "567  3.235918  2.166605  2.312006  ...  3.683802  3.851614  4.881311   \n",
      "568  4.716134  5.313924  4.694784  ...  2.845194  3.320580  1.924047   \n",
      "\n",
      "          562       563       564       565       566       567       568  \n",
      "0    4.709984  3.423116  3.186774  4.158469  4.118909  4.409792  4.680551  \n",
      "1    2.990281  2.893921  1.971130  2.438766  2.399206  3.759215  3.638222  \n",
      "2    2.180462  1.506597  1.252274  1.628947  1.931453  2.219218  4.054295  \n",
      "3    3.674430  4.061436  5.841946  5.969531  5.806506  3.867224  6.395638  \n",
      "4    3.788465  2.501597  1.873289  3.236950  3.197390  3.488274  3.590962  \n",
      "..        ...       ...       ...       ...       ...       ...       ...  \n",
      "564  2.167517  2.041074  0.000000  1.363661  2.215187  3.053083  4.153927  \n",
      "565  2.295101  2.277968  1.363661  0.000000  1.157892  3.289977  3.513256  \n",
      "566  2.132077  2.823487  2.215187  1.157892  0.000000  3.310823  2.510685  \n",
      "567  1.558853  1.012009  3.053083  3.289977  3.310823  0.000000  4.637852  \n",
      "568  3.712701  4.075645  4.153927  3.513256  2.510685  4.637852  0.000000  \n",
      "\n",
      "[569 rows x 569 columns]\n"
     ]
    }
   ],
   "source": [
    "print(MChebyshev)"
   ]
  },
  {
   "cell_type": "markdown",
   "metadata": {
    "id": "R7e4rqH66yxZ"
   },
   "source": [
    "Matriz de distancias de una parte del total de objetos"
   ]
  },
  {
   "cell_type": "code",
   "execution_count": 16,
   "metadata": {
    "colab": {
     "base_uri": "https://localhost:8080/"
    },
    "executionInfo": {
     "elapsed": 169,
     "status": "ok",
     "timestamp": 1633308049613,
     "user": {
      "displayName": "Guillermo Molero-Castillo",
      "photoUrl": "https://lh3.googleusercontent.com/a/default-user=s64",
      "userId": "05385957137518665248"
     },
     "user_tz": 300
    },
    "id": "Qx5UQOcY6zl6",
    "outputId": "190f5410-1a99-4ecc-8475-84e0a4eb9c38"
   },
   "outputs": [
    {
     "name": "stdout",
     "output_type": "stream",
     "text": [
      "          0         1         2         3         4         5         6  \\\n",
      "0  0.000000  3.770586  2.653755  2.655172  2.818197  2.039179  3.195219   \n",
      "1  3.770586  0.000000  1.769173  5.779572  1.394857  3.064384  0.813413   \n",
      "2  2.653755  1.769173  0.000000  5.308927  1.608003  2.288013  1.390296   \n",
      "3  2.655172  5.779572  5.308927  0.000000  5.473369  3.020914  5.673251   \n",
      "4  2.818197  1.394857  1.608003  5.473369  0.000000  2.452455  1.312466   \n",
      "5  2.039179  3.064384  2.288013  3.020914  2.452455  0.000000  2.652337   \n",
      "6  3.195219  0.813413  1.390296  5.673251  1.312466  2.652337  0.000000   \n",
      "7  2.591848  2.529006  2.058361  3.250566  2.222803  1.193785  2.422685   \n",
      "8  2.662165  3.028801  1.970470  3.338458  2.210437  1.424165  2.334794   \n",
      "9  3.178774  3.651748  3.181104  2.127824  3.345546  1.940774  3.545428   \n",
      "\n",
      "          7         8         9  \n",
      "0  2.591848  2.662165  3.178774  \n",
      "1  2.529006  3.028801  3.651748  \n",
      "2  2.058361  1.970470  3.181104  \n",
      "3  3.250566  3.338458  2.127824  \n",
      "4  2.222803  2.210437  3.345546  \n",
      "5  1.193785  1.424165  1.940774  \n",
      "6  2.422685  2.334794  3.545428  \n",
      "7  0.000000  1.158071  1.677846  \n",
      "8  1.158071  0.000000  1.210634  \n",
      "9  1.677846  1.210634  0.000000  \n"
     ]
    }
   ],
   "source": [
    "DstChebyshev = cdist(MEstandarizada[0:10], MEstandarizada[0:10], metric='chebyshev')\n",
    "MChebyshev = pd.DataFrame(DstChebyshev)\n",
    "print(MChebyshev)"
   ]
  },
  {
   "cell_type": "markdown",
   "metadata": {
    "id": "LL8UlDBI6ri1"
   },
   "source": [
    "Distancia entre dos objetos"
   ]
  },
  {
   "cell_type": "code",
   "execution_count": 18,
   "metadata": {
    "colab": {
     "base_uri": "https://localhost:8080/"
    },
    "executionInfo": {
     "elapsed": 140,
     "status": "ok",
     "timestamp": 1633308091605,
     "user": {
      "displayName": "Guillermo Molero-Castillo",
      "photoUrl": "https://lh3.googleusercontent.com/a/default-user=s64",
      "userId": "05385957137518665248"
     },
     "user_tz": 300
    },
    "id": "1FWopV0a6sPc",
    "outputId": "0b6e4c07-963a-4d99-b64c-49135d205e35"
   },
   "outputs": [
    {
     "data": {
      "text/plain": [
       "3.7705863435627216"
      ]
     },
     "execution_count": 18,
     "metadata": {},
     "output_type": "execute_result"
    }
   ],
   "source": [
    "Objeto1 = MEstandarizada[0]\n",
    "Objeto2 = MEstandarizada[1]\n",
    "dstChebyshev = distance.chebyshev(Objeto1,Objeto2)\n",
    "dstChebyshev"
   ]
  },
  {
   "cell_type": "markdown",
   "metadata": {
    "id": "PNUVTubfChSE"
   },
   "source": [
    "**c) Matriz de distancias: Manhattan**"
   ]
  },
  {
   "cell_type": "code",
   "execution_count": 19,
   "metadata": {
    "id": "mkTj7uZPCicE"
   },
   "outputs": [],
   "source": [
    "DstManhattan = cdist(MEstandarizada, MEstandarizada, metric='cityblock')\n",
    "MManhattan = pd.DataFrame(DstManhattan)"
   ]
  },
  {
   "cell_type": "code",
   "execution_count": 20,
   "metadata": {
    "colab": {
     "base_uri": "https://localhost:8080/"
    },
    "executionInfo": {
     "elapsed": 201,
     "status": "ok",
     "timestamp": 1633308121780,
     "user": {
      "displayName": "Guillermo Molero-Castillo",
      "photoUrl": "https://lh3.googleusercontent.com/a/default-user=s64",
      "userId": "05385957137518665248"
     },
     "user_tz": 300
    },
    "id": "kZZZVhNhCizt",
    "outputId": "8cba6204-28ce-41f2-c3fd-7b96bc164afe"
   },
   "outputs": [
    {
     "name": "stdout",
     "output_type": "stream",
     "text": [
      "           0          1          2          3          4          5    \\\n",
      "0     0.000000  19.960402  12.456494  14.761766  14.386631  13.738927   \n",
      "1    19.960402   0.000000   9.123546  27.647273   5.776913  17.000477   \n",
      "2    12.456494   9.123546   0.000000  20.099684   5.161210  12.916073   \n",
      "3    14.761766  27.647273  20.099684   0.000000  23.669871  11.610203   \n",
      "4    14.386631   5.776913   5.161210  23.669871   0.000000  14.276762   \n",
      "..         ...        ...        ...        ...        ...        ...   \n",
      "564  16.184127   8.861501   5.661976  24.457560   6.257927  18.378786   \n",
      "565  19.597254   6.058711   7.140760  26.069397   5.827566  17.515356   \n",
      "566  22.459463   7.682935  12.710774  26.134687  12.076285  16.702619   \n",
      "567   8.731406  18.760276  10.728167  18.839038  14.760685  19.079466   \n",
      "568  34.148303  18.949363  24.399613  29.665580  23.767960  21.747286   \n",
      "\n",
      "           6          7          8          9    ...        559        560  \\\n",
      "0    16.975639  14.624429  12.885631  13.028898  ...  24.558455  23.463742   \n",
      "1     4.408377  14.887134  18.706094  20.259714  ...  13.923987  12.436606   \n",
      "2     7.448497  11.542140  11.644391  13.611883  ...  16.428669  14.202708   \n",
      "3    23.370330  13.501964   9.611375   9.090972  ...  20.225829  22.830765   \n",
      "4     6.222934  15.290400  15.588125  17.255777  ...  16.123065  13.897103   \n",
      "..         ...        ...        ...        ...  ...        ...        ...   \n",
      "564   8.706076  17.004853  16.841818  17.508463  ...  17.387797  15.161835   \n",
      "565   5.355831  15.794906  16.683978  17.622242  ...  13.298407  10.134595   \n",
      "566   5.853352  12.632723  16.523312  17.043714  ...   8.261011   5.408284   \n",
      "567  18.176664  17.118093  14.742753  15.219373  ...  24.290624  21.697279   \n",
      "568  17.944791  19.595040  22.529417  22.202569  ...  11.042923  12.264384   \n",
      "\n",
      "           561        562        563        564        565        566  \\\n",
      "0    33.837414  13.387501  10.316622  16.184127  19.597254  22.459463   \n",
      "1    18.023235  17.341101  14.650788   8.861501   6.058711   7.682935   \n",
      "2    24.088725  10.634615   6.965660   5.661976   7.140760  12.710774   \n",
      "3    29.354692  15.413501  20.424254  24.457560  26.069397  26.134687   \n",
      "4    23.454236  13.880094  10.816155   6.257927   5.827566  12.076285   \n",
      "..         ...        ...        ...        ...        ...        ...   \n",
      "564  23.981814  14.598407   7.812944   0.000000   6.544993  12.674743   \n",
      "565  17.626670  12.287169  11.640527   6.544993   0.000000   6.653888   \n",
      "566  11.377951  12.244830  17.889246  12.674743   6.653888   0.000000   \n",
      "567  31.056351  10.992026   4.649612  12.223612  13.932328  20.260167   \n",
      "568   7.794719  23.590516  29.834063  25.032692  20.659400  14.005512   \n",
      "\n",
      "           567        568  \n",
      "0     8.731406  34.148303  \n",
      "1    18.760276  18.949363  \n",
      "2    10.728167  24.399613  \n",
      "3    18.839038  29.665580  \n",
      "4    14.760685  23.767960  \n",
      "..         ...        ...  \n",
      "564  12.223612  25.032692  \n",
      "565  13.932328  20.659400  \n",
      "566  20.260167  14.005512  \n",
      "567   0.000000  33.596570  \n",
      "568  33.596570   0.000000  \n",
      "\n",
      "[569 rows x 569 columns]\n"
     ]
    }
   ],
   "source": [
    "print(MManhattan)"
   ]
  },
  {
   "cell_type": "markdown",
   "metadata": {
    "id": "czqO7FST8Qvb"
   },
   "source": [
    "Matriz de distancias de una parte del total de objetos"
   ]
  },
  {
   "cell_type": "code",
   "execution_count": 21,
   "metadata": {
    "colab": {
     "base_uri": "https://localhost:8080/"
    },
    "executionInfo": {
     "elapsed": 147,
     "status": "ok",
     "timestamp": 1633308165940,
     "user": {
      "displayName": "Guillermo Molero-Castillo",
      "photoUrl": "https://lh3.googleusercontent.com/a/default-user=s64",
      "userId": "05385957137518665248"
     },
     "user_tz": 300
    },
    "id": "93LDlDQ48Rph",
    "outputId": "977b7fc5-a2bb-4979-dd6c-c5f576e9e524"
   },
   "outputs": [
    {
     "name": "stdout",
     "output_type": "stream",
     "text": [
      "           0          1          2          3          4          5  \\\n",
      "0   0.000000  19.960402  12.456494  14.761766  14.386631  13.738927   \n",
      "1  19.960402   0.000000   9.123546  27.647273   5.776913  17.000477   \n",
      "2  12.456494   9.123546   0.000000  20.099684   5.161210  12.916073   \n",
      "3  14.761766  27.647273  20.099684   0.000000  23.669871  11.610203   \n",
      "4  14.386631   5.776913   5.161210  23.669871   0.000000  14.276762   \n",
      "5  13.738927  17.000477  12.916073  11.610203  14.276762   0.000000   \n",
      "6  16.975639   4.408377   7.448497  23.370330   6.222934  13.752097   \n",
      "7  14.624429  14.887134  11.542140  13.501964  15.290400   4.865802   \n",
      "8  12.885631  18.706094  11.644391   9.611375  15.588125   4.336713   \n",
      "9  13.028898  20.259714  13.611883   9.090972  17.255777   6.069308   \n",
      "\n",
      "           6          7          8          9  \n",
      "0  16.975639  14.624429  12.885631  13.028898  \n",
      "1   4.408377  14.887134  18.706094  20.259714  \n",
      "2   7.448497  11.542140  11.644391  13.611883  \n",
      "3  23.370330  13.501964   9.611375   9.090972  \n",
      "4   6.222934  15.290400  15.588125  17.255777  \n",
      "5  13.752097   4.865802   4.336713   6.069308  \n",
      "6   0.000000  11.285865  14.429151  15.982771  \n",
      "7  11.285865   0.000000   4.527131   7.159781  \n",
      "8  14.429151   4.527131   0.000000   5.546365  \n",
      "9  15.982771   7.159781   5.546365   0.000000  \n"
     ]
    }
   ],
   "source": [
    "DstManhattan = cdist(MEstandarizada[0:10], MEstandarizada[0:10], metric='cityblock')\n",
    "MManhattan = pd.DataFrame(DstManhattan)\n",
    "print(MManhattan)"
   ]
  },
  {
   "cell_type": "markdown",
   "metadata": {
    "id": "bxzGN1Hr8wbV"
   },
   "source": [
    "Distancia entre dos objetos"
   ]
  },
  {
   "cell_type": "code",
   "execution_count": 22,
   "metadata": {
    "colab": {
     "base_uri": "https://localhost:8080/"
    },
    "executionInfo": {
     "elapsed": 220,
     "status": "ok",
     "timestamp": 1633309651624,
     "user": {
      "displayName": "Guillermo Molero-Castillo",
      "photoUrl": "https://lh3.googleusercontent.com/a/default-user=s64",
      "userId": "05385957137518665248"
     },
     "user_tz": 300
    },
    "id": "wlaZ_RQH8ySL",
    "outputId": "3e8eb409-1198-4ea7-ea16-6bd982a5a0df"
   },
   "outputs": [
    {
     "data": {
      "text/plain": [
       "19.960401628448203"
      ]
     },
     "execution_count": 22,
     "metadata": {},
     "output_type": "execute_result"
    }
   ],
   "source": [
    "Objeto1 = MEstandarizada[0]\n",
    "Objeto2 = MEstandarizada[1]\n",
    "dstManhattan = distance.cityblock(Objeto1,Objeto2)\n",
    "dstManhattan"
   ]
  },
  {
   "cell_type": "markdown",
   "metadata": {
    "id": "cdJzgxqoEDWw"
   },
   "source": [
    "**d) Matriz de distancias: Minkowski**"
   ]
  },
  {
   "cell_type": "code",
   "execution_count": 23,
   "metadata": {
    "id": "lk6Obnn7EDwI"
   },
   "outputs": [],
   "source": [
    "DstMinkowski = cdist(MEstandarizada, MEstandarizada, metric='minkowski', p=1.5)\n",
    "MMinkowski = pd.DataFrame(DstMinkowski)"
   ]
  },
  {
   "cell_type": "code",
   "execution_count": 24,
   "metadata": {
    "colab": {
     "base_uri": "https://localhost:8080/"
    },
    "executionInfo": {
     "elapsed": 195,
     "status": "ok",
     "timestamp": 1633308219874,
     "user": {
      "displayName": "Guillermo Molero-Castillo",
      "photoUrl": "https://lh3.googleusercontent.com/a/default-user=s64",
      "userId": "05385957137518665248"
     },
     "user_tz": 300
    },
    "id": "chKy4TXYED-b",
    "outputId": "f6f6a1d2-9511-416f-dd0b-f63551a9b589"
   },
   "outputs": [
    {
     "name": "stdout",
     "output_type": "stream",
     "text": [
      "           0          1          2          3          4          5    \\\n",
      "0     0.000000   9.882039   6.445210   7.330588   7.175048   6.595316   \n",
      "1     9.882039   0.000000   4.656765  13.713921   3.166844   8.501628   \n",
      "2     6.445210   4.656765   0.000000  10.362426   2.812831   6.568589   \n",
      "3     7.330588  13.713921  10.362426   0.000000  12.010220   6.115724   \n",
      "4     7.175048   3.166844   2.812831  12.010220   0.000000   7.186424   \n",
      "..         ...        ...        ...        ...        ...        ...   \n",
      "564   8.350730   4.717975   2.824643  12.586517   3.236071   8.842731   \n",
      "565   9.989640   3.506345   3.690617  13.026342   3.828520   8.707076   \n",
      "566  11.296910   4.268048   6.088234  13.038363   6.061496   8.247774   \n",
      "567   5.551356   9.746503   5.535553   9.407928   7.800899   9.202636   \n",
      "568  16.016982   9.617795  12.045848  15.211356  11.761722  10.730699   \n",
      "\n",
      "           6         7          8          9    ...        559        560  \\\n",
      "0     8.831132  7.342520   6.334904   6.624968  ...  11.628102  11.373885   \n",
      "1     2.232895  7.482176   8.997149   9.915495  ...   7.053268   6.108659   \n",
      "2     3.668741  5.907521   5.892008   7.000694  ...   7.974779   6.890057   \n",
      "3    11.923885  6.954470   5.262399   4.861496  ...  11.090133  11.636551   \n",
      "4     3.131041  7.259541   7.683148   8.573843  ...   7.899199   7.089488   \n",
      "..         ...       ...        ...        ...  ...        ...        ...   \n",
      "564   4.451042  8.318981   8.324486   8.985845  ...   8.717334   7.641001   \n",
      "565   2.917087  7.549229   8.172428   8.773534  ...   6.816715   5.187453   \n",
      "566   3.103839  6.571208   8.071977   8.401037  ...   4.212566   2.688096   \n",
      "567   8.905610  8.534200   7.273539   7.468133  ...  11.680099  10.597073   \n",
      "568   8.942502  9.660295  11.193072  11.254045  ...   5.553208   6.357819   \n",
      "\n",
      "           561        562        563        564        565        566  \\\n",
      "0    16.113947   7.106506   5.551883   8.350730   9.989640  11.296910   \n",
      "1     8.966332   8.340937   7.572529   4.717975   3.506345   4.268048   \n",
      "2    11.466015   5.277382   3.586382   2.824643   3.690617   6.088234   \n",
      "3    15.637234   7.948390   9.999543  12.586517  13.026342  13.038363   \n",
      "4    11.188475   7.126782   5.574583   3.236071   3.828520   6.061496   \n",
      "..         ...        ...        ...        ...        ...        ...   \n",
      "564  11.638134   7.156164   4.338268   0.000000   3.385265   6.393190   \n",
      "565   8.798391   6.119032   5.937814   3.385265   0.000000   3.432545   \n",
      "566   5.589238   6.221028   8.540749   6.393190   3.432545   0.000000   \n",
      "567  15.208207   5.364879   2.464061   6.542985   7.508640   9.968461   \n",
      "568   4.190027  11.203071  14.562417  12.769447  10.362174   7.111029   \n",
      "\n",
      "           567        568  \n",
      "0     5.551356  16.016982  \n",
      "1     9.746503   9.617795  \n",
      "2     5.535553  12.045848  \n",
      "3     9.407928  15.211356  \n",
      "4     7.800899  11.761722  \n",
      "..         ...        ...  \n",
      "564   6.542985  12.769447  \n",
      "565   7.508640  10.362174  \n",
      "566   9.968461   7.111029  \n",
      "567   0.000000  16.065025  \n",
      "568  16.065025   0.000000  \n",
      "\n",
      "[569 rows x 569 columns]\n"
     ]
    }
   ],
   "source": [
    "print(MMinkowski)"
   ]
  },
  {
   "cell_type": "markdown",
   "metadata": {
    "id": "erqbHrWAADy2"
   },
   "source": [
    "Matriz de distancias de una parte del total de objetos"
   ]
  },
  {
   "cell_type": "code",
   "execution_count": 25,
   "metadata": {
    "colab": {
     "base_uri": "https://localhost:8080/"
    },
    "executionInfo": {
     "elapsed": 135,
     "status": "ok",
     "timestamp": 1633308242999,
     "user": {
      "displayName": "Guillermo Molero-Castillo",
      "photoUrl": "https://lh3.googleusercontent.com/a/default-user=s64",
      "userId": "05385957137518665248"
     },
     "user_tz": 300
    },
    "id": "su4IXbeWADzA",
    "outputId": "5ac89044-2544-42ae-8337-f006714245a1"
   },
   "outputs": [
    {
     "name": "stdout",
     "output_type": "stream",
     "text": [
      "          0          1          2          3          4         5          6  \\\n",
      "0  0.000000   9.882039   6.445210   7.330588   7.175048  6.595316   8.831132   \n",
      "1  9.882039   0.000000   4.656765  13.713921   3.166844  8.501628   2.232895   \n",
      "2  6.445210   4.656765   0.000000  10.362426   2.812831  6.568589   3.668741   \n",
      "3  7.330588  13.713921  10.362426   0.000000  12.010220  6.115724  11.923885   \n",
      "4  7.175048   3.166844   2.812831  12.010220   0.000000  7.186424   3.131041   \n",
      "5  6.595316   8.501628   6.568589   6.115724   7.186424  0.000000   6.820977   \n",
      "6  8.831132   2.232895   3.668741  11.923885   3.131041  6.820977   0.000000   \n",
      "7  7.342520   7.482176   5.907521   6.954470   7.259541  2.464669   5.704988   \n",
      "8  6.334904   8.997149   5.892008   5.262399   7.683148  2.396073   7.040192   \n",
      "9  6.624968   9.915495   7.000694   4.861496   8.573843  3.503121   7.927489   \n",
      "\n",
      "          7         8         9  \n",
      "0  7.342520  6.334904  6.624968  \n",
      "1  7.482176  8.997149  9.915495  \n",
      "2  5.907521  5.892008  7.000694  \n",
      "3  6.954470  5.262399  4.861496  \n",
      "4  7.259541  7.683148  8.573843  \n",
      "5  2.464669  2.396073  3.503121  \n",
      "6  5.704988  7.040192  7.927489  \n",
      "7  0.000000  2.380275  3.733931  \n",
      "8  2.380275  0.000000  2.887954  \n",
      "9  3.733931  2.887954  0.000000  \n"
     ]
    }
   ],
   "source": [
    "DstMinkowski = cdist(MEstandarizada[0:10], MEstandarizada[0:10], metric='minkowski', p=1.5)\n",
    "MMinkowski = pd.DataFrame(DstMinkowski)\n",
    "print(MMinkowski)"
   ]
  },
  {
   "cell_type": "markdown",
   "metadata": {
    "id": "k5oWahVIA9vd"
   },
   "source": [
    "Distancia entre dos objetos"
   ]
  },
  {
   "cell_type": "code",
   "execution_count": 26,
   "metadata": {
    "colab": {
     "base_uri": "https://localhost:8080/"
    },
    "executionInfo": {
     "elapsed": 227,
     "status": "ok",
     "timestamp": 1633309895978,
     "user": {
      "displayName": "Guillermo Molero-Castillo",
      "photoUrl": "https://lh3.googleusercontent.com/a/default-user=s64",
      "userId": "05385957137518665248"
     },
     "user_tz": 300
    },
    "id": "x3KvnK-sA9_g",
    "outputId": "188d0c55-7720-41b3-c215-5805bb04f50e"
   },
   "outputs": [
    {
     "data": {
      "text/plain": [
       "9.88203919107356"
      ]
     },
     "execution_count": 26,
     "metadata": {},
     "output_type": "execute_result"
    }
   ],
   "source": [
    "Objeto1 = MEstandarizada[0]\n",
    "Objeto2 = MEstandarizada[1]\n",
    "dstMinkowski = distance.minkowski(Objeto1,Objeto2, p=1.5)\n",
    "dstMinkowski"
   ]
  },
  {
   "cell_type": "code",
   "execution_count": null,
   "metadata": {},
   "outputs": [],
   "source": []
  }
 ],
 "metadata": {
  "colab": {
   "provenance": []
  },
  "kernelspec": {
   "display_name": "Python 3",
   "language": "python",
   "name": "python3"
  },
  "language_info": {
   "codemirror_mode": {
    "name": "ipython",
    "version": 3
   },
   "file_extension": ".py",
   "mimetype": "text/x-python",
   "name": "python",
   "nbconvert_exporter": "python",
   "pygments_lexer": "ipython3",
   "version": "3.8.3"
  }
 },
 "nbformat": 4,
 "nbformat_minor": 1
}
