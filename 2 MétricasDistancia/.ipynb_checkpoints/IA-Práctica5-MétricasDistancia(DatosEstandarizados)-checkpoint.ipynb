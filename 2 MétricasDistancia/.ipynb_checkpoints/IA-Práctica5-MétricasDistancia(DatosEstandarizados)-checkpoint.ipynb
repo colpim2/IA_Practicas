{
 "cells": [
  {
   "cell_type": "markdown",
   "metadata": {
    "id": "pnYOY0aH5jGf"
   },
   "source": [
    "# **Práctica 4: Métricas de distancia (datos estandarizados)**\n",
    "\n",
    "Nombre:\n",
    "\n",
    "Número de cuenta:\n",
    "\n",
    "Email:"
   ]
  },
  {
   "cell_type": "markdown",
   "metadata": {
    "id": "b05A7-qViDDz"
   },
   "source": [
    "**Objetivo.** Obtener las matrices de distancia (Euclidiana, Chebyshev, Manhattan, Minkowski) a partir de una matriz de datos.\n",
    "\n",
    "\n",
    "**Fuente de datos:**\n",
    "\n",
    "* ingresos: son ingresos mensuales de 1 o 2 personas, si están casados.\n",
    "* gastos_comunes: son gastos mensuales de 1 o 2 personas, si están casados. \n",
    "* pago_coche\n",
    "* gastos_otros\n",
    "* ahorros\n",
    "* vivienda: valor de la vivienda.\n",
    "* estado_civil: 0-soltero, 1-casado, 2-divorciado\n",
    "* hijos: cantidad de hijos menores (no trabajan).\n",
    "* trabajo: 0-sin trabajo, 1-autonomo, 2-asalariado, 3-empresario, 4-autonomos, 5-asalariados, 6-autonomo y asalariado, 7-empresario y autonomo, 8-empresarios o empresario y autónomo \n",
    "* comprar: 0-alquilar, 1-comprar casa a través de crédito hipotecario con tasa fija a 30 años.\n"
   ]
  },
  {
   "cell_type": "markdown",
   "metadata": {
    "id": "OhmPOcypjfUv"
   },
   "source": [
    "#### **1) Importar las bibliotecas necesarias**\n"
   ]
  },
  {
   "cell_type": "code",
   "execution_count": 1,
   "metadata": {
    "executionInfo": {
     "elapsed": 216,
     "status": "ok",
     "timestamp": 1667451120699,
     "user": {
      "displayName": "Axel Fernando Rabago Diaz",
      "userId": "09864032713929554066"
     },
     "user_tz": 360
    },
    "id": "N6zYyzEQQG36"
   },
   "outputs": [],
   "source": [
    "import pandas as pd                         # Para la manipulación y análisis de datos\n",
    "import numpy as np                          # Para crear vectores y matrices n dimensionales\n",
    "import matplotlib.pyplot as plt             # Para generar gráficas a partir de los datos\n",
    "from scipy.spatial.distance import cdist    # Para el cálculo de distancias\n",
    "from scipy.spatial import distance"
   ]
  },
  {
   "cell_type": "markdown",
   "metadata": {
    "id": "uuGs6szll3vf"
   },
   "source": [
    "#### **2) Importar los datos**"
   ]
  },
  {
   "cell_type": "code",
   "execution_count": null,
   "metadata": {
    "colab": {
     "base_uri": "https://localhost:8080/",
     "height": 444
    },
    "executionInfo": {
     "elapsed": 108,
     "status": "ok",
     "timestamp": 1633310413441,
     "user": {
      "displayName": "Guillermo Molero-Castillo",
      "photoUrl": "https://lh3.googleusercontent.com/a/default-user=s64",
      "userId": "05385957137518665248"
     },
     "user_tz": 300
    },
    "id": "Kdq7I0JVQvEB",
    "outputId": "18b849d2-7157-4a52-a3da-69b24703cb2e"
   },
   "outputs": [
    {
     "data": {
      "text/html": [
       "<div>\n",
       "<style scoped>\n",
       "    .dataframe tbody tr th:only-of-type {\n",
       "        vertical-align: middle;\n",
       "    }\n",
       "\n",
       "    .dataframe tbody tr th {\n",
       "        vertical-align: top;\n",
       "    }\n",
       "\n",
       "    .dataframe thead th {\n",
       "        text-align: right;\n",
       "    }\n",
       "</style>\n",
       "<table border=\"1\" class=\"dataframe\">\n",
       "  <thead>\n",
       "    <tr style=\"text-align: right;\">\n",
       "      <th></th>\n",
       "      <th>ingresos</th>\n",
       "      <th>gastos_comunes</th>\n",
       "      <th>pago_coche</th>\n",
       "      <th>gastos_otros</th>\n",
       "      <th>ahorros</th>\n",
       "      <th>vivienda</th>\n",
       "      <th>estado_civil</th>\n",
       "      <th>hijos</th>\n",
       "      <th>trabajo</th>\n",
       "      <th>comprar</th>\n",
       "    </tr>\n",
       "  </thead>\n",
       "  <tbody>\n",
       "    <tr>\n",
       "      <th>0</th>\n",
       "      <td>6000</td>\n",
       "      <td>1000</td>\n",
       "      <td>0</td>\n",
       "      <td>600</td>\n",
       "      <td>50000</td>\n",
       "      <td>400000</td>\n",
       "      <td>0</td>\n",
       "      <td>2</td>\n",
       "      <td>2</td>\n",
       "      <td>1</td>\n",
       "    </tr>\n",
       "    <tr>\n",
       "      <th>1</th>\n",
       "      <td>6745</td>\n",
       "      <td>944</td>\n",
       "      <td>123</td>\n",
       "      <td>429</td>\n",
       "      <td>43240</td>\n",
       "      <td>636897</td>\n",
       "      <td>1</td>\n",
       "      <td>3</td>\n",
       "      <td>6</td>\n",
       "      <td>0</td>\n",
       "    </tr>\n",
       "    <tr>\n",
       "      <th>2</th>\n",
       "      <td>6455</td>\n",
       "      <td>1033</td>\n",
       "      <td>98</td>\n",
       "      <td>795</td>\n",
       "      <td>57463</td>\n",
       "      <td>321779</td>\n",
       "      <td>2</td>\n",
       "      <td>1</td>\n",
       "      <td>8</td>\n",
       "      <td>1</td>\n",
       "    </tr>\n",
       "    <tr>\n",
       "      <th>3</th>\n",
       "      <td>7098</td>\n",
       "      <td>1278</td>\n",
       "      <td>15</td>\n",
       "      <td>254</td>\n",
       "      <td>54506</td>\n",
       "      <td>660933</td>\n",
       "      <td>0</td>\n",
       "      <td>0</td>\n",
       "      <td>3</td>\n",
       "      <td>0</td>\n",
       "    </tr>\n",
       "    <tr>\n",
       "      <th>4</th>\n",
       "      <td>6167</td>\n",
       "      <td>863</td>\n",
       "      <td>223</td>\n",
       "      <td>520</td>\n",
       "      <td>41512</td>\n",
       "      <td>348932</td>\n",
       "      <td>0</td>\n",
       "      <td>0</td>\n",
       "      <td>3</td>\n",
       "      <td>1</td>\n",
       "    </tr>\n",
       "    <tr>\n",
       "      <th>...</th>\n",
       "      <td>...</td>\n",
       "      <td>...</td>\n",
       "      <td>...</td>\n",
       "      <td>...</td>\n",
       "      <td>...</td>\n",
       "      <td>...</td>\n",
       "      <td>...</td>\n",
       "      <td>...</td>\n",
       "      <td>...</td>\n",
       "      <td>...</td>\n",
       "    </tr>\n",
       "    <tr>\n",
       "      <th>197</th>\n",
       "      <td>3831</td>\n",
       "      <td>690</td>\n",
       "      <td>352</td>\n",
       "      <td>488</td>\n",
       "      <td>10723</td>\n",
       "      <td>363120</td>\n",
       "      <td>0</td>\n",
       "      <td>0</td>\n",
       "      <td>2</td>\n",
       "      <td>0</td>\n",
       "    </tr>\n",
       "    <tr>\n",
       "      <th>198</th>\n",
       "      <td>3961</td>\n",
       "      <td>1030</td>\n",
       "      <td>270</td>\n",
       "      <td>475</td>\n",
       "      <td>21880</td>\n",
       "      <td>280421</td>\n",
       "      <td>2</td>\n",
       "      <td>3</td>\n",
       "      <td>8</td>\n",
       "      <td>0</td>\n",
       "    </tr>\n",
       "    <tr>\n",
       "      <th>199</th>\n",
       "      <td>3184</td>\n",
       "      <td>955</td>\n",
       "      <td>276</td>\n",
       "      <td>684</td>\n",
       "      <td>35565</td>\n",
       "      <td>388025</td>\n",
       "      <td>1</td>\n",
       "      <td>3</td>\n",
       "      <td>8</td>\n",
       "      <td>0</td>\n",
       "    </tr>\n",
       "    <tr>\n",
       "      <th>200</th>\n",
       "      <td>3334</td>\n",
       "      <td>867</td>\n",
       "      <td>369</td>\n",
       "      <td>652</td>\n",
       "      <td>19985</td>\n",
       "      <td>376892</td>\n",
       "      <td>1</td>\n",
       "      <td>2</td>\n",
       "      <td>5</td>\n",
       "      <td>0</td>\n",
       "    </tr>\n",
       "    <tr>\n",
       "      <th>201</th>\n",
       "      <td>3988</td>\n",
       "      <td>1157</td>\n",
       "      <td>105</td>\n",
       "      <td>382</td>\n",
       "      <td>11980</td>\n",
       "      <td>257580</td>\n",
       "      <td>0</td>\n",
       "      <td>0</td>\n",
       "      <td>4</td>\n",
       "      <td>0</td>\n",
       "    </tr>\n",
       "  </tbody>\n",
       "</table>\n",
       "<p>202 rows × 10 columns</p>\n",
       "</div>"
      ],
      "text/plain": [
       "     ingresos  gastos_comunes  pago_coche  ...  hijos  trabajo  comprar\n",
       "0        6000            1000           0  ...      2        2        1\n",
       "1        6745             944         123  ...      3        6        0\n",
       "2        6455            1033          98  ...      1        8        1\n",
       "3        7098            1278          15  ...      0        3        0\n",
       "4        6167             863         223  ...      0        3        1\n",
       "..        ...             ...         ...  ...    ...      ...      ...\n",
       "197      3831             690         352  ...      0        2        0\n",
       "198      3961            1030         270  ...      3        8        0\n",
       "199      3184             955         276  ...      3        8        0\n",
       "200      3334             867         369  ...      2        5        0\n",
       "201      3988            1157         105  ...      0        4        0\n",
       "\n",
       "[202 rows x 10 columns]"
      ]
     },
     "execution_count": 4,
     "metadata": {},
     "output_type": "execute_result"
    }
   ],
   "source": [
    "Hipoteca = pd.read_csv(\"Hipoteca.csv\")\n",
    "Hipoteca"
   ]
  },
  {
   "cell_type": "code",
   "execution_count": null,
   "metadata": {
    "colab": {
     "base_uri": "https://localhost:8080/"
    },
    "executionInfo": {
     "elapsed": 138,
     "status": "ok",
     "timestamp": 1633310420472,
     "user": {
      "displayName": "Guillermo Molero-Castillo",
      "photoUrl": "https://lh3.googleusercontent.com/a/default-user=s64",
      "userId": "05385957137518665248"
     },
     "user_tz": 300
    },
    "id": "rXSmHDzwrRjd",
    "outputId": "0b7272d0-6282-4bc0-b408-d5d090874e09"
   },
   "outputs": [
    {
     "name": "stdout",
     "output_type": "stream",
     "text": [
      "<class 'pandas.core.frame.DataFrame'>\n",
      "RangeIndex: 202 entries, 0 to 201\n",
      "Data columns (total 10 columns):\n",
      " #   Column          Non-Null Count  Dtype\n",
      "---  ------          --------------  -----\n",
      " 0   ingresos        202 non-null    int64\n",
      " 1   gastos_comunes  202 non-null    int64\n",
      " 2   pago_coche      202 non-null    int64\n",
      " 3   gastos_otros    202 non-null    int64\n",
      " 4   ahorros         202 non-null    int64\n",
      " 5   vivienda        202 non-null    int64\n",
      " 6   estado_civil    202 non-null    int64\n",
      " 7   hijos           202 non-null    int64\n",
      " 8   trabajo         202 non-null    int64\n",
      " 9   comprar         202 non-null    int64\n",
      "dtypes: int64(10)\n",
      "memory usage: 15.9 KB\n"
     ]
    }
   ],
   "source": [
    "Hipoteca.info()"
   ]
  },
  {
   "cell_type": "markdown",
   "metadata": {
    "id": "CzJj--8CriU5"
   },
   "source": [
    "**Estandarización de datos**\n",
    "\n",
    "En los algoritmos basados en distancias es fundamental escalar o normalizar los datos para que cada una de las variables contribuyan por igual en el análisis."
   ]
  },
  {
   "cell_type": "code",
   "execution_count": null,
   "metadata": {
    "id": "UAA9sqj6r3xG"
   },
   "outputs": [],
   "source": [
    "from sklearn.preprocessing import StandardScaler, MinMaxScaler  \n",
    "estandarizar = StandardScaler()                               # Se instancia el objeto StandardScaler o MinMaxScaler \n",
    "MEstandarizada = estandarizar.fit_transform(Hipoteca)         # Se calculan la media y desviación y se escalan los datos"
   ]
  },
  {
   "cell_type": "code",
   "execution_count": null,
   "metadata": {
    "colab": {
     "base_uri": "https://localhost:8080/",
     "height": 424
    },
    "executionInfo": {
     "elapsed": 230,
     "status": "ok",
     "timestamp": 1633307604719,
     "user": {
      "displayName": "Guillermo Molero-Castillo",
      "photoUrl": "https://lh3.googleusercontent.com/a/default-user=s64",
      "userId": "05385957137518665248"
     },
     "user_tz": 300
    },
    "id": "5q-FQcZssZJE",
    "outputId": "d7538f26-d196-4876-fbc7-97481c2a1b7b"
   },
   "outputs": [
    {
     "data": {
      "text/html": [
       "<div>\n",
       "<style scoped>\n",
       "    .dataframe tbody tr th:only-of-type {\n",
       "        vertical-align: middle;\n",
       "    }\n",
       "\n",
       "    .dataframe tbody tr th {\n",
       "        vertical-align: top;\n",
       "    }\n",
       "\n",
       "    .dataframe thead th {\n",
       "        text-align: right;\n",
       "    }\n",
       "</style>\n",
       "<table border=\"1\" class=\"dataframe\">\n",
       "  <thead>\n",
       "    <tr style=\"text-align: right;\">\n",
       "      <th></th>\n",
       "      <th>0</th>\n",
       "      <th>1</th>\n",
       "      <th>2</th>\n",
       "      <th>3</th>\n",
       "      <th>4</th>\n",
       "      <th>5</th>\n",
       "      <th>6</th>\n",
       "      <th>7</th>\n",
       "      <th>8</th>\n",
       "      <th>9</th>\n",
       "    </tr>\n",
       "  </thead>\n",
       "  <tbody>\n",
       "    <tr>\n",
       "      <th>0</th>\n",
       "      <td>0.620129</td>\n",
       "      <td>0.104689</td>\n",
       "      <td>-1.698954</td>\n",
       "      <td>0.504359</td>\n",
       "      <td>0.649475</td>\n",
       "      <td>0.195910</td>\n",
       "      <td>-1.227088</td>\n",
       "      <td>0.562374</td>\n",
       "      <td>-0.984420</td>\n",
       "      <td>1.419481</td>\n",
       "    </tr>\n",
       "    <tr>\n",
       "      <th>1</th>\n",
       "      <td>1.063927</td>\n",
       "      <td>-0.101625</td>\n",
       "      <td>-0.712042</td>\n",
       "      <td>-0.515401</td>\n",
       "      <td>0.259224</td>\n",
       "      <td>1.937370</td>\n",
       "      <td>-0.029640</td>\n",
       "      <td>1.295273</td>\n",
       "      <td>0.596915</td>\n",
       "      <td>-0.704483</td>\n",
       "    </tr>\n",
       "    <tr>\n",
       "      <th>2</th>\n",
       "      <td>0.891173</td>\n",
       "      <td>0.226266</td>\n",
       "      <td>-0.912634</td>\n",
       "      <td>1.667244</td>\n",
       "      <td>1.080309</td>\n",
       "      <td>-0.379102</td>\n",
       "      <td>1.167809</td>\n",
       "      <td>-0.170526</td>\n",
       "      <td>1.387582</td>\n",
       "      <td>1.419481</td>\n",
       "    </tr>\n",
       "    <tr>\n",
       "      <th>3</th>\n",
       "      <td>1.274209</td>\n",
       "      <td>1.128886</td>\n",
       "      <td>-1.578599</td>\n",
       "      <td>-1.559015</td>\n",
       "      <td>0.909604</td>\n",
       "      <td>2.114062</td>\n",
       "      <td>-1.227088</td>\n",
       "      <td>-0.903426</td>\n",
       "      <td>-0.589086</td>\n",
       "      <td>-0.704483</td>\n",
       "    </tr>\n",
       "    <tr>\n",
       "      <th>4</th>\n",
       "      <td>0.719611</td>\n",
       "      <td>-0.400042</td>\n",
       "      <td>0.090326</td>\n",
       "      <td>0.027279</td>\n",
       "      <td>0.159468</td>\n",
       "      <td>-0.179497</td>\n",
       "      <td>-1.227088</td>\n",
       "      <td>-0.903426</td>\n",
       "      <td>-0.589086</td>\n",
       "      <td>1.419481</td>\n",
       "    </tr>\n",
       "    <tr>\n",
       "      <th>...</th>\n",
       "      <td>...</td>\n",
       "      <td>...</td>\n",
       "      <td>...</td>\n",
       "      <td>...</td>\n",
       "      <td>...</td>\n",
       "      <td>...</td>\n",
       "      <td>...</td>\n",
       "      <td>...</td>\n",
       "      <td>...</td>\n",
       "      <td>...</td>\n",
       "    </tr>\n",
       "    <tr>\n",
       "      <th>197</th>\n",
       "      <td>-0.671949</td>\n",
       "      <td>-1.037402</td>\n",
       "      <td>1.125381</td>\n",
       "      <td>-0.163554</td>\n",
       "      <td>-1.617963</td>\n",
       "      <td>-0.075199</td>\n",
       "      <td>-1.227088</td>\n",
       "      <td>-0.903426</td>\n",
       "      <td>-0.984420</td>\n",
       "      <td>-0.704483</td>\n",
       "    </tr>\n",
       "    <tr>\n",
       "      <th>198</th>\n",
       "      <td>-0.594508</td>\n",
       "      <td>0.215214</td>\n",
       "      <td>0.467439</td>\n",
       "      <td>-0.241079</td>\n",
       "      <td>-0.973876</td>\n",
       "      <td>-0.683130</td>\n",
       "      <td>1.167809</td>\n",
       "      <td>1.295273</td>\n",
       "      <td>1.387582</td>\n",
       "      <td>-0.704483</td>\n",
       "    </tr>\n",
       "    <tr>\n",
       "      <th>199</th>\n",
       "      <td>-1.057368</td>\n",
       "      <td>-0.061099</td>\n",
       "      <td>0.515581</td>\n",
       "      <td>1.005294</td>\n",
       "      <td>-0.183849</td>\n",
       "      <td>0.107880</td>\n",
       "      <td>-0.029640</td>\n",
       "      <td>1.295273</td>\n",
       "      <td>1.387582</td>\n",
       "      <td>-0.704483</td>\n",
       "    </tr>\n",
       "    <tr>\n",
       "      <th>200</th>\n",
       "      <td>-0.968013</td>\n",
       "      <td>-0.385305</td>\n",
       "      <td>1.261783</td>\n",
       "      <td>0.814462</td>\n",
       "      <td>-1.083273</td>\n",
       "      <td>0.026040</td>\n",
       "      <td>-0.029640</td>\n",
       "      <td>0.562374</td>\n",
       "      <td>0.201581</td>\n",
       "      <td>-0.704483</td>\n",
       "    </tr>\n",
       "    <tr>\n",
       "      <th>201</th>\n",
       "      <td>-0.578424</td>\n",
       "      <td>0.683102</td>\n",
       "      <td>-0.856468</td>\n",
       "      <td>-0.795686</td>\n",
       "      <td>-1.545397</td>\n",
       "      <td>-0.851037</td>\n",
       "      <td>-1.227088</td>\n",
       "      <td>-0.903426</td>\n",
       "      <td>-0.193753</td>\n",
       "      <td>-0.704483</td>\n",
       "    </tr>\n",
       "  </tbody>\n",
       "</table>\n",
       "<p>202 rows × 10 columns</p>\n",
       "</div>"
      ],
      "text/plain": [
       "            0         1         2  ...         7         8         9\n",
       "0    0.620129  0.104689 -1.698954  ...  0.562374 -0.984420  1.419481\n",
       "1    1.063927 -0.101625 -0.712042  ...  1.295273  0.596915 -0.704483\n",
       "2    0.891173  0.226266 -0.912634  ... -0.170526  1.387582  1.419481\n",
       "3    1.274209  1.128886 -1.578599  ... -0.903426 -0.589086 -0.704483\n",
       "4    0.719611 -0.400042  0.090326  ... -0.903426 -0.589086  1.419481\n",
       "..        ...       ...       ...  ...       ...       ...       ...\n",
       "197 -0.671949 -1.037402  1.125381  ... -0.903426 -0.984420 -0.704483\n",
       "198 -0.594508  0.215214  0.467439  ...  1.295273  1.387582 -0.704483\n",
       "199 -1.057368 -0.061099  0.515581  ...  1.295273  1.387582 -0.704483\n",
       "200 -0.968013 -0.385305  1.261783  ...  0.562374  0.201581 -0.704483\n",
       "201 -0.578424  0.683102 -0.856468  ... -0.903426 -0.193753 -0.704483\n",
       "\n",
       "[202 rows x 10 columns]"
      ]
     },
     "execution_count": 15,
     "metadata": {},
     "output_type": "execute_result"
    }
   ],
   "source": [
    "pd.DataFrame(MEstandarizada) "
   ]
  },
  {
   "cell_type": "markdown",
   "metadata": {
    "id": "t0Ong23Yl8eY"
   },
   "source": [
    "#### **3) Matrices de distancia**"
   ]
  },
  {
   "cell_type": "markdown",
   "metadata": {
    "id": "I3uEnrDx--At"
   },
   "source": [
    "**a) Matriz de distancias: Euclidiana**"
   ]
  },
  {
   "cell_type": "code",
   "execution_count": null,
   "metadata": {
    "id": "yolJSfM6yVWa"
   },
   "outputs": [],
   "source": [
    "DstEuclidiana = cdist(MEstandarizada, MEstandarizada, metric='euclidean')\n",
    "MEuclidiana = pd.DataFrame(DstEuclidiana)"
   ]
  },
  {
   "cell_type": "code",
   "execution_count": null,
   "metadata": {
    "colab": {
     "base_uri": "https://localhost:8080/"
    },
    "executionInfo": {
     "elapsed": 180,
     "status": "ok",
     "timestamp": 1633307567508,
     "user": {
      "displayName": "Guillermo Molero-Castillo",
      "photoUrl": "https://lh3.googleusercontent.com/a/default-user=s64",
      "userId": "05385957137518665248"
     },
     "user_tz": 300
    },
    "id": "pnchjOx2_aBz",
    "outputId": "6f9fa18e-151c-4e30-c816-1be32d08d521"
   },
   "outputs": [
    {
     "name": "stdout",
     "output_type": "stream",
     "text": [
      "          0         1         2    ...       199       200       201\n",
      "0    0.000000  3.797535  3.804493  ...  4.561513  4.691204  4.167673\n",
      "1    3.797535  0.000000  4.438534  ...  3.534064  4.002834  4.619277\n",
      "2    3.804493  4.438534  0.000000  ...  4.035627  4.692546  5.370211\n",
      "3    4.038794  3.395203  5.722746  ...  5.762757  5.793142  4.439623\n",
      "4    2.525802  4.221725  3.896767  ...  4.392829  3.891753  3.529423\n",
      "..        ...       ...       ...  ...       ...       ...       ...\n",
      "197  4.824041  4.871541  5.943808  ...  4.101772  2.602537  2.920367\n",
      "198  5.153131  3.842371  4.327305  ...  2.128398  2.477457  3.962922\n",
      "199  4.561513  3.534064  4.035627  ...  0.000000  1.861647  4.177486\n",
      "200  4.691204  4.002834  4.692546  ...  1.861647  0.000000  3.618619\n",
      "201  4.167673  4.619277  5.370211  ...  4.177486  3.618619  0.000000\n",
      "\n",
      "[202 rows x 202 columns]\n"
     ]
    }
   ],
   "source": [
    "print(MEuclidiana)\n",
    "#MEuclidiana "
   ]
  },
  {
   "cell_type": "code",
   "execution_count": null,
   "metadata": {
    "colab": {
     "base_uri": "https://localhost:8080/"
    },
    "executionInfo": {
     "elapsed": 159,
     "status": "ok",
     "timestamp": 1633307649469,
     "user": {
      "displayName": "Guillermo Molero-Castillo",
      "photoUrl": "https://lh3.googleusercontent.com/a/default-user=s64",
      "userId": "05385957137518665248"
     },
     "user_tz": 300
    },
    "id": "NX8EtpHSoL6k",
    "outputId": "c0fe34ad-02d3-47f7-c9d3-6aea53295d7b"
   },
   "outputs": [
    {
     "name": "stdout",
     "output_type": "stream",
     "text": [
      "       0      1      2      3      4    ...    197    198    199    200    201\n",
      "0    0.000  3.798  3.804  4.039  2.526  ...  4.824  5.153  4.562  4.691  4.168\n",
      "1    3.798  0.000  4.439  3.395  4.222  ...  4.872  3.842  3.534  4.003  4.619\n",
      "2    3.804  4.439  0.000  5.723  3.897  ...  5.944  4.327  4.036  4.693  5.370\n",
      "3    4.039  3.395  5.723  0.000  4.276  ...  5.392  6.008  5.763  5.793  4.440\n",
      "4    2.526  4.222  3.897  4.276  0.000  ...  3.360  4.780  4.393  3.892  3.529\n",
      "..     ...    ...    ...    ...    ...  ...    ...    ...    ...    ...    ...\n",
      "197  4.824  4.872  5.944  5.392  3.360  ...  0.000  4.358  4.102  2.603  2.920\n",
      "198  5.153  3.842  4.327  6.008  4.780  ...  4.358  0.000  2.128  2.477  3.963\n",
      "199  4.562  3.534  4.036  5.763  4.393  ...  4.102  2.128  0.000  1.862  4.177\n",
      "200  4.691  4.003  4.693  5.793  3.892  ...  2.603  2.477  1.862  0.000  3.619\n",
      "201  4.168  4.619  5.370  4.440  3.529  ...  2.920  3.963  4.177  3.619  0.000\n",
      "\n",
      "[202 rows x 202 columns]\n"
     ]
    }
   ],
   "source": [
    "print(MEuclidiana.round(3))"
   ]
  },
  {
   "cell_type": "markdown",
   "metadata": {
    "id": "1WPWHVnkrLWI"
   },
   "source": [
    "Matriz de distancias de una parte del total de objetos"
   ]
  },
  {
   "cell_type": "code",
   "execution_count": null,
   "metadata": {
    "colab": {
     "base_uri": "https://localhost:8080/"
    },
    "executionInfo": {
     "elapsed": 211,
     "status": "ok",
     "timestamp": 1633307817926,
     "user": {
      "displayName": "Guillermo Molero-Castillo",
      "photoUrl": "https://lh3.googleusercontent.com/a/default-user=s64",
      "userId": "05385957137518665248"
     },
     "user_tz": 300
    },
    "id": "QJMTRTpoqoRC",
    "outputId": "7bfc9575-8b5d-4011-ed1d-73f215b58409"
   },
   "outputs": [
    {
     "name": "stdout",
     "output_type": "stream",
     "text": [
      "          0         1         2  ...         7         8         9\n",
      "0  0.000000  3.797535  3.804493  ...  3.266670  2.580767  4.539208\n",
      "1  3.797535  0.000000  4.438534  ...  3.990354  4.623600  4.146656\n",
      "2  3.804493  4.438534  0.000000  ...  4.800687  3.691077  3.765019\n",
      "3  4.038794  3.395203  5.722746  ...  3.421725  4.268658  4.867024\n",
      "4  2.525802  4.221725  3.896767  ...  3.823082  1.609706  3.729517\n",
      "5  2.812974  3.334202  4.080909  ...  5.323531  4.155028  3.676100\n",
      "6  3.947750  3.816188  4.145313  ...  5.100542  2.732431  1.876685\n",
      "7  3.266670  3.990354  4.800687  ...  0.000000  3.841435  5.966857\n",
      "8  2.580767  4.623600  3.691077  ...  3.841435  0.000000  3.640088\n",
      "9  4.539208  4.146656  3.765019  ...  5.966857  3.640088  0.000000\n",
      "\n",
      "[10 rows x 10 columns]\n"
     ]
    }
   ],
   "source": [
    "DstEuclidiana = cdist(MEstandarizada[0:10], MEstandarizada[0:10], metric='euclidean')\n",
    "MEuclidiana = pd.DataFrame(DstEuclidiana)\n",
    "print(MEuclidiana) "
   ]
  },
  {
   "cell_type": "markdown",
   "metadata": {
    "id": "DQElWCmSrqsA"
   },
   "source": [
    "Distancia entre dos objetos"
   ]
  },
  {
   "cell_type": "code",
   "execution_count": null,
   "metadata": {
    "colab": {
     "base_uri": "https://localhost:8080/"
    },
    "executionInfo": {
     "elapsed": 167,
     "status": "ok",
     "timestamp": 1633309626835,
     "user": {
      "displayName": "Guillermo Molero-Castillo",
      "photoUrl": "https://lh3.googleusercontent.com/a/default-user=s64",
      "userId": "05385957137518665248"
     },
     "user_tz": 300
    },
    "id": "He8ZKAtzoJm-",
    "outputId": "293d8591-2c61-4c41-f29b-85414b60a6b0"
   },
   "outputs": [
    {
     "data": {
      "text/plain": [
       "3.797535116785011"
      ]
     },
     "execution_count": 42,
     "metadata": {},
     "output_type": "execute_result"
    }
   ],
   "source": [
    "Objeto1 = MEstandarizada[0]\n",
    "Objeto2 = MEstandarizada[1]\n",
    "dstEuclidiana = distance.euclidean(Objeto1,Objeto2)\n",
    "dstEuclidiana "
   ]
  },
  {
   "cell_type": "markdown",
   "metadata": {
    "id": "ByhD6VXyBbf8"
   },
   "source": [
    "**b) Matriz de distancias: Chebyshev**"
   ]
  },
  {
   "cell_type": "code",
   "execution_count": null,
   "metadata": {
    "id": "hZxcwmX2BkkO"
   },
   "outputs": [],
   "source": [
    "DstChebyshev = cdist(MEstandarizada, MEstandarizada, metric='chebyshev')\n",
    "MChebyshev = pd.DataFrame(DstChebyshev)"
   ]
  },
  {
   "cell_type": "code",
   "execution_count": null,
   "metadata": {
    "colab": {
     "base_uri": "https://localhost:8080/"
    },
    "executionInfo": {
     "elapsed": 4,
     "status": "ok",
     "timestamp": 1633308036293,
     "user": {
      "displayName": "Guillermo Molero-Castillo",
      "photoUrl": "https://lh3.googleusercontent.com/a/default-user=s64",
      "userId": "05385957137518665248"
     },
     "user_tz": 300
    },
    "id": "ceDvx0h3BpgS",
    "outputId": "8707336c-5a44-489e-a2b0-24b814fb73f5"
   },
   "outputs": [
    {
     "name": "stdout",
     "output_type": "stream",
     "text": [
      "          0         1         2    ...       199       200       201\n",
      "0    0.000000  2.123964  2.394897  ...  2.372002  2.960737  2.194872\n",
      "1    2.123964  0.000000  2.316473  ...  2.121295  2.031939  2.788408\n",
      "2    2.394897  2.316473  0.000000  ...  2.123964  2.174417  2.625706\n",
      "3    2.123964  2.198699  3.226259  ...  2.564310  2.840382  2.965099\n",
      "4    1.789280  2.198699  2.394897  ...  2.198699  2.123964  2.123964\n",
      "..        ...       ...       ...  ...       ...       ...       ...\n",
      "197  2.824335  2.198699  2.698272  ...  2.372002  1.465800  1.981849\n",
      "198  2.394897  2.620501  2.123964  ...  1.246374  1.197448  2.394897\n",
      "199  2.372002  2.121295  2.123964  ...  0.000000  1.186001  2.198699\n",
      "200  2.960737  2.031939  2.174417  ...  1.186001  0.000000  2.118251\n",
      "201  2.194872  2.788408  2.625706  ...  2.198699  2.118251  0.000000\n",
      "\n",
      "[202 rows x 202 columns]\n"
     ]
    }
   ],
   "source": [
    "print(MChebyshev)"
   ]
  },
  {
   "cell_type": "markdown",
   "metadata": {
    "id": "R7e4rqH66yxZ"
   },
   "source": [
    "Matriz de distancias de una parte del total de objetos"
   ]
  },
  {
   "cell_type": "code",
   "execution_count": null,
   "metadata": {
    "colab": {
     "base_uri": "https://localhost:8080/"
    },
    "executionInfo": {
     "elapsed": 169,
     "status": "ok",
     "timestamp": 1633308049613,
     "user": {
      "displayName": "Guillermo Molero-Castillo",
      "photoUrl": "https://lh3.googleusercontent.com/a/default-user=s64",
      "userId": "05385957137518665248"
     },
     "user_tz": 300
    },
    "id": "Qx5UQOcY6zl6",
    "outputId": "190f5410-1a99-4ecc-8475-84e0a4eb9c38"
   },
   "outputs": [
    {
     "name": "stdout",
     "output_type": "stream",
     "text": [
      "          0         1         2  ...         7         8         9\n",
      "0  0.000000  2.123964  2.394897  ...  2.123964  1.676949  2.394897\n",
      "1  2.123964  0.000000  2.316473  ...  2.198699  2.542659  2.299425\n",
      "2  2.394897  2.316473  0.000000  ...  2.767335  2.394897  3.279931\n",
      "3  2.123964  2.198699  3.226259  ...  3.148734  2.719351  2.476117\n",
      "4  1.789280  2.198699  2.394897  ...  2.123964  1.425772  2.394897\n",
      "5  1.639965  2.123964  2.802850  ...  2.931599  2.931599  2.198699\n",
      "6  2.768169  2.123964  2.898266  ...  2.820741  1.562440  1.197448\n",
      "7  2.123964  2.198699  2.767335  ...  0.000000  2.317671  3.202405\n",
      "8  1.676949  2.542659  2.394897  ...  2.317671  0.000000  2.394897\n",
      "9  2.394897  2.299425  3.279931  ...  3.202405  2.394897  0.000000\n",
      "\n",
      "[10 rows x 10 columns]\n"
     ]
    }
   ],
   "source": [
    "DstChebyshev = cdist(MEstandarizada[0:10], MEstandarizada[0:10], metric='chebyshev')\n",
    "MChebyshev = pd.DataFrame(DstChebyshev)\n",
    "print(MChebyshev)"
   ]
  },
  {
   "cell_type": "markdown",
   "metadata": {
    "id": "LL8UlDBI6ri1"
   },
   "source": [
    "Distancia entre dos objetos"
   ]
  },
  {
   "cell_type": "code",
   "execution_count": null,
   "metadata": {
    "colab": {
     "base_uri": "https://localhost:8080/"
    },
    "executionInfo": {
     "elapsed": 140,
     "status": "ok",
     "timestamp": 1633308091605,
     "user": {
      "displayName": "Guillermo Molero-Castillo",
      "photoUrl": "https://lh3.googleusercontent.com/a/default-user=s64",
      "userId": "05385957137518665248"
     },
     "user_tz": 300
    },
    "id": "1FWopV0a6sPc",
    "outputId": "0b6e4c07-963a-4d99-b64c-49135d205e35"
   },
   "outputs": [
    {
     "data": {
      "text/plain": [
       "2.1239636695175896"
      ]
     },
     "execution_count": 30,
     "metadata": {},
     "output_type": "execute_result"
    }
   ],
   "source": [
    "Objeto1 = MEstandarizada[0]\n",
    "Objeto2 = MEstandarizada[1]\n",
    "dstChebyshev = distance.chebyshev(Objeto1,Objeto2)\n",
    "dstChebyshev"
   ]
  },
  {
   "cell_type": "markdown",
   "metadata": {
    "id": "PNUVTubfChSE"
   },
   "source": [
    "**c) Matriz de distancias: Manhattan**"
   ]
  },
  {
   "cell_type": "code",
   "execution_count": null,
   "metadata": {
    "id": "mkTj7uZPCicE"
   },
   "outputs": [],
   "source": [
    "DstManhattan = cdist(MEstandarizada, MEstandarizada, metric='cityblock')\n",
    "MManhattan = pd.DataFrame(DstManhattan)"
   ]
  },
  {
   "cell_type": "code",
   "execution_count": null,
   "metadata": {
    "colab": {
     "base_uri": "https://localhost:8080/"
    },
    "executionInfo": {
     "elapsed": 201,
     "status": "ok",
     "timestamp": 1633308121780,
     "user": {
      "displayName": "Guillermo Molero-Castillo",
      "photoUrl": "https://lh3.googleusercontent.com/a/default-user=s64",
      "userId": "05385957137518665248"
     },
     "user_tz": 300
    },
    "id": "kZZZVhNhCizt",
    "outputId": "8cba6204-28ce-41f2-c3fd-7b96bc164afe"
   },
   "outputs": [
    {
     "name": "stdout",
     "output_type": "stream",
     "text": [
      "           0          1          2    ...        199        200        201\n",
      "0     0.000000  10.424141   8.847472  ...  11.906421  11.759006  11.541748\n",
      "1    10.424141   0.000000  11.599318  ...   7.973369  10.001368  11.631632\n",
      "2     8.847472  11.599318   0.000000  ...  10.864423  13.306994  14.376265\n",
      "3    10.025386   8.760185  15.070180  ...  16.652502  16.505087   9.599311\n",
      "4     5.597122  10.910516   9.665707  ...  11.646667  10.687158   9.046640\n",
      "..         ...        ...        ...  ...        ...        ...        ...\n",
      "197  12.054727  13.728162  17.321540  ...  10.525713   6.547757   6.067082\n",
      "198  14.363146   9.270791  10.733106  ...   4.812175   6.758826   9.276845\n",
      "199  11.906421   7.973369  10.864423  ...   0.000000   4.250761  11.694123\n",
      "200  11.759006  10.001368  13.306994  ...   4.250761   0.000000   9.584179\n",
      "201  11.541748  11.631632  14.376265  ...  11.694123   9.584179   0.000000\n",
      "\n",
      "[202 rows x 202 columns]\n"
     ]
    }
   ],
   "source": [
    "print(MManhattan)"
   ]
  },
  {
   "cell_type": "markdown",
   "metadata": {
    "id": "czqO7FST8Qvb"
   },
   "source": [
    "Matriz de distancias de una parte del total de objetos"
   ]
  },
  {
   "cell_type": "code",
   "execution_count": null,
   "metadata": {
    "colab": {
     "base_uri": "https://localhost:8080/"
    },
    "executionInfo": {
     "elapsed": 147,
     "status": "ok",
     "timestamp": 1633308165940,
     "user": {
      "displayName": "Guillermo Molero-Castillo",
      "photoUrl": "https://lh3.googleusercontent.com/a/default-user=s64",
      "userId": "05385957137518665248"
     },
     "user_tz": 300
    },
    "id": "93LDlDQ48Rph",
    "outputId": "977b7fc5-a2bb-4979-dd6c-c5f576e9e524"
   },
   "outputs": [
    {
     "name": "stdout",
     "output_type": "stream",
     "text": [
      "           0          1          2  ...          7          8          9\n",
      "0   0.000000  10.424141   8.847472  ...   7.738225   5.611823  11.881937\n",
      "1  10.424141   0.000000  11.599318  ...   9.695689  12.626546  11.067069\n",
      "2   8.847472  11.599318   0.000000  ...  10.679192   8.879890   7.046665\n",
      "3  10.025386   8.760185  15.070180  ...   5.972322   9.129148  12.206451\n",
      "4   5.597122  10.910516   9.665707  ...   9.578937   2.837118   8.760076\n",
      "5   6.427056   7.989831   9.654680  ...  13.887734  10.092330   9.510240\n",
      "6   9.618351   9.562377   9.875240  ...  14.008775   7.132801   4.489027\n",
      "7   7.738225   9.695689  10.679192  ...   0.000000   9.177593  16.710664\n",
      "8   5.611823  12.626546   8.879890  ...   9.177593   0.000000   8.280457\n",
      "9  11.881937  11.067069   7.046665  ...  16.710664   8.280457   0.000000\n",
      "\n",
      "[10 rows x 10 columns]\n"
     ]
    }
   ],
   "source": [
    "DstManhattan = cdist(MEstandarizada[0:10], MEstandarizada[0:10], metric='cityblock')\n",
    "MManhattan = pd.DataFrame(DstManhattan)\n",
    "print(MManhattan)"
   ]
  },
  {
   "cell_type": "markdown",
   "metadata": {
    "id": "bxzGN1Hr8wbV"
   },
   "source": [
    "Distancia entre dos objetos"
   ]
  },
  {
   "cell_type": "code",
   "execution_count": null,
   "metadata": {
    "colab": {
     "base_uri": "https://localhost:8080/"
    },
    "executionInfo": {
     "elapsed": 220,
     "status": "ok",
     "timestamp": 1633309651624,
     "user": {
      "displayName": "Guillermo Molero-Castillo",
      "photoUrl": "https://lh3.googleusercontent.com/a/default-user=s64",
      "userId": "05385957137518665248"
     },
     "user_tz": 300
    },
    "id": "wlaZ_RQH8ySL",
    "outputId": "3e8eb409-1198-4ea7-ea16-6bd982a5a0df"
   },
   "outputs": [
    {
     "data": {
      "text/plain": [
       "10.424141070900212"
      ]
     },
     "execution_count": 43,
     "metadata": {},
     "output_type": "execute_result"
    }
   ],
   "source": [
    "Objeto1 = MEstandarizada[0]\n",
    "Objeto2 = MEstandarizada[1]\n",
    "dstManhattan = distance.cityblock(Objeto1,Objeto2)\n",
    "dstManhattan"
   ]
  },
  {
   "cell_type": "markdown",
   "metadata": {
    "id": "cdJzgxqoEDWw"
   },
   "source": [
    "**d) Matriz de distancias: Minkowski**"
   ]
  },
  {
   "cell_type": "code",
   "execution_count": null,
   "metadata": {
    "id": "lk6Obnn7EDwI"
   },
   "outputs": [],
   "source": [
    "DstMinkowski = cdist(MEstandarizada, MEstandarizada, metric='minkowski', p=1.5)\n",
    "MMinkowski = pd.DataFrame(DstMinkowski)"
   ]
  },
  {
   "cell_type": "code",
   "execution_count": null,
   "metadata": {
    "colab": {
     "base_uri": "https://localhost:8080/"
    },
    "executionInfo": {
     "elapsed": 195,
     "status": "ok",
     "timestamp": 1633308219874,
     "user": {
      "displayName": "Guillermo Molero-Castillo",
      "photoUrl": "https://lh3.googleusercontent.com/a/default-user=s64",
      "userId": "05385957137518665248"
     },
     "user_tz": 300
    },
    "id": "chKy4TXYED-b",
    "outputId": "f6f6a1d2-9511-416f-dd0b-f63551a9b589"
   },
   "outputs": [
    {
     "name": "stdout",
     "output_type": "stream",
     "text": [
      "          0         1         2    ...       199       200       201\n",
      "0    0.000000  5.230769  4.898143  ...  6.180060  6.259283  5.782133\n",
      "1    5.230769  0.000000  6.008218  ...  4.581278  5.365428  6.178405\n",
      "2    4.898143  6.008218  0.000000  ...  5.546062  6.552322  7.359566\n",
      "3    5.380078  4.577987  7.767533  ...  8.164713  8.153774  5.613723\n",
      "4    3.194333  5.684360  5.170442  ...  5.976566  5.392557  4.762823\n",
      "..        ...       ...       ...  ...       ...       ...       ...\n",
      "197  6.456871  6.837178  8.422537  ...  5.518374  3.484710  3.653702\n",
      "198  7.165865  5.054451  5.822982  ...  2.757183  3.428694  5.157947\n",
      "199  6.180060  4.581278  5.546062  ...  0.000000  2.407156  5.832106\n",
      "200  6.259283  5.365428  6.552322  ...  2.407156  0.000000  4.928902\n",
      "201  5.782133  6.178405  7.359566  ...  5.832106  4.928902  0.000000\n",
      "\n",
      "[202 rows x 202 columns]\n"
     ]
    }
   ],
   "source": [
    "print(MMinkowski)"
   ]
  },
  {
   "cell_type": "markdown",
   "metadata": {
    "id": "erqbHrWAADy2"
   },
   "source": [
    "Matriz de distancias de una parte del total de objetos"
   ]
  },
  {
   "cell_type": "code",
   "execution_count": null,
   "metadata": {
    "colab": {
     "base_uri": "https://localhost:8080/"
    },
    "executionInfo": {
     "elapsed": 135,
     "status": "ok",
     "timestamp": 1633308242999,
     "user": {
      "displayName": "Guillermo Molero-Castillo",
      "photoUrl": "https://lh3.googleusercontent.com/a/default-user=s64",
      "userId": "05385957137518665248"
     },
     "user_tz": 300
    },
    "id": "su4IXbeWADzA",
    "outputId": "5ac89044-2544-42ae-8337-f006714245a1"
   },
   "outputs": [
    {
     "name": "stdout",
     "output_type": "stream",
     "text": [
      "          0         1         2  ...         7         8         9\n",
      "0  0.000000  5.230769  4.898143  ...  4.251992  3.276410  6.152703\n",
      "1  5.230769  0.000000  6.008218  ...  5.260852  6.347660  5.663025\n",
      "2  4.898143  6.008218  0.000000  ...  6.191502  4.830481  4.472055\n",
      "3  5.380078  4.577987  7.767533  ...  3.924650  5.421550  6.534552\n",
      "4  3.194333  5.684360  5.170442  ...  5.127385  1.876635  4.862207\n",
      "5  3.636612  4.337667  5.280479  ...  7.195193  5.463708  4.949609\n",
      "6  5.183831  5.116112  5.411805  ...  7.025383  3.708546  2.467307\n",
      "7  4.251992  5.260852  6.191502  ...  0.000000  5.046566  8.299101\n",
      "8  3.276410  6.347660  4.830481  ...  5.046566  0.000000  4.667053\n",
      "9  6.152703  5.663025  4.472055  ...  8.299101  4.667053  0.000000\n",
      "\n",
      "[10 rows x 10 columns]\n"
     ]
    }
   ],
   "source": [
    "DstMinkowski = cdist(MEstandarizada[0:10], MEstandarizada[0:10], metric='minkowski', p=1.5)\n",
    "MMinkowski = pd.DataFrame(DstMinkowski)\n",
    "print(MMinkowski)"
   ]
  },
  {
   "cell_type": "markdown",
   "metadata": {
    "id": "k5oWahVIA9vd"
   },
   "source": [
    "Distancia entre dos objetos"
   ]
  },
  {
   "cell_type": "code",
   "execution_count": null,
   "metadata": {
    "colab": {
     "base_uri": "https://localhost:8080/"
    },
    "executionInfo": {
     "elapsed": 227,
     "status": "ok",
     "timestamp": 1633309895978,
     "user": {
      "displayName": "Guillermo Molero-Castillo",
      "photoUrl": "https://lh3.googleusercontent.com/a/default-user=s64",
      "userId": "05385957137518665248"
     },
     "user_tz": 300
    },
    "id": "x3KvnK-sA9_g",
    "outputId": "188d0c55-7720-41b3-c215-5805bb04f50e"
   },
   "outputs": [
    {
     "data": {
      "text/plain": [
       "5.230769189641202"
      ]
     },
     "execution_count": 49,
     "metadata": {},
     "output_type": "execute_result"
    }
   ],
   "source": [
    "Objeto1 = MEstandarizada[0]\n",
    "Objeto2 = MEstandarizada[1]\n",
    "dstMinkowski = distance.minkowski(Objeto1,Objeto2, p=1.5)\n",
    "dstMinkowski"
   ]
  }
 ],
 "metadata": {
  "colab": {
   "provenance": []
  },
  "kernelspec": {
   "display_name": "Python 3",
   "language": "python",
   "name": "python3"
  },
  "language_info": {
   "codemirror_mode": {
    "name": "ipython",
    "version": 3
   },
   "file_extension": ".py",
   "mimetype": "text/x-python",
   "name": "python",
   "nbconvert_exporter": "python",
   "pygments_lexer": "ipython3",
   "version": "3.8.3"
  }
 },
 "nbformat": 4,
 "nbformat_minor": 1
}
